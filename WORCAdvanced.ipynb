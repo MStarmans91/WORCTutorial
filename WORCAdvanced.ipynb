{
 "cells": [
  {
   "cell_type": "markdown",
   "metadata": {},
   "source": [
    "XNAT Plugin\n",
    "\n",
    "Navigate to the CT session of patient Interobs005 on the XNAT of the Multidelination project, which will lead you [here](https://xnat.bmia.nl/app/action/DisplayItemAction/search_element/xnat%3ActSessionData/search_field/xnat%3ActSessionData.ID/search_value/BMIAXNAT_E32058/popup/false/project/stwstrategymmd). Instead of having to download the images from XNAT ourselves, we can directly refer to them in WORC/fastr by using the XNAT plugin:\n",
    "\n",
    "\n",
    "xnat://xnat.example.com/search?projects=sandbox&subjects=subject[0-9][0-9][0-9]&experiments=*_BRAIN&scans=T1&resources=DICOM\n",
    "\n",
    "source_image_patient05 = 'xnat://xnat.bmia.nl/data/archive/projects/stwstrategymmd/subjects/subject001/experiments/experiment001/scans/T1/resources/DICOM'"
   ]
  }
 ],
 "metadata": {
  "kernelspec": {
   "display_name": "Python 2",
   "language": "python",
   "name": "python2"
  },
  "language_info": {
   "codemirror_mode": {
    "name": "ipython",
    "version": 2
   },
   "file_extension": ".py",
   "mimetype": "text/x-python",
   "name": "python",
   "nbconvert_exporter": "python",
   "pygments_lexer": "ipython2",
   "version": "2.7.15rc1"
  }
 },
 "nbformat": 4,
 "nbformat_minor": 2
}
