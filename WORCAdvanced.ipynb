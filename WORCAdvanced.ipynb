{
 "cells": [
  {
   "cell_type": "code",
   "execution_count": null,
   "metadata": {},
   "outputs": [],
   "source": [
    "# Create some of the needed objects and import required packages\n",
    "import WORC\n",
    "import fastr\n",
    "import glob\n",
    "import os\n",
    "\n",
    "# Note: please give the below value the name of your account on Ubuntu, such that the home folder can be correctly found\n",
    "username = 'worc'\n",
    "\n",
    "# Create a network with the name \"Tutorial\", which will be used upon execution\n",
    "network = WORC.WORC('Advanced')\n",
    "\n",
    "# Make sure you do add the images, segmentations, label sources and a configuration as described in the tutorial. \n",
    "# We will again use the example data, but you are again free to use your own files!\n",
    "image_sources = glob.glob(('/home/{}/Documents/Data/STWStrategyMMD/*/image.nii.gz').format(username))\n",
    "image_sources = [i.replace(('/home/{}').format(username), 'vfs://home') for i in image_sources]\n",
    "image_sources = {os.path.basename(os.path.dirname(i)): i for i in image_sources}\n",
    "network.images_train.append(image_sources)\n",
    "\n",
    "segmentation_sources = glob.glob(('/home/{}/Documents/Data/STWStrategyMMD/*/mask.nii.gz').format(username))\n",
    "segmentation_sources = [i.replace(('/home/{}').format(username), 'vfs://home') for i in segmentation_sources]\n",
    "segmentation_sources = {os.path.basename(os.path.dirname(i)): i for i in segmentation_sources}\n",
    "network.segmentations_train.append(segmentation_sources)\n",
    "\n",
    "network.labels_train.append('vfs://home/Documents/WORCTutorial/Data/StrategyMMD/pinfo.txt')\n",
    "\n",
    "config = network.defaultconfig()\n",
    "\n",
    "config['SampleProcessing']['SMOTE'] = 'False'\n",
    "config['CrossValidation']['N_iterations'] = '5'\n",
    "config['Genetics']['label_names'] = 'imaginary_label_1'\n",
    "config['HyperOptimization']['test_size'] = '0.3'\n",
    "network.fastr_plugin = 'LinearExecution'\n",
    "network.configs.append(config)\n"
   ]
  },
  {
   "cell_type": "markdown",
   "metadata": {},
   "source": [
    "# Advanced WORCflows\n",
    "\n",
    "After you have gone throught the WORCTutorial, you can use this notebook to gain some information on more advanced WORCflows. The following topics will be discussed\n",
    "\n",
    "1. Adding metadata and semantic features\n",
    "2. Instead of using images and segmentations, use features. (WIP)\n",
    "3. Using the XNAT plugin. (WIP)\n",
    "4. Adding nodes to WORC: example makes use of the XNAT plugin. (WIP)\n",
    "5. Using Elastix for registration when using multiple modalities. (WIP)\n",
    "6. Using a separate training and test dataset. (WIP)\n",
    "\n"
   ]
  },
  {
   "cell_type": "markdown",
   "metadata": {},
   "source": [
    "## 1. Adding metadata and semantic features\n",
    "There are numerous types of sources supported by WORC. In the tutorial, we only added images and segmentations two the workflow. Here, we will discuss two other types of data you can add and show how to add them.\n",
    "\n",
    "Metadata on the imaging protocols and the patients can be added through DICOM files when using PREDICT as the feature extraction toolbox. When adding metadata, multiple DICOM tags will be extracted and used as features. These are called \"patient features\" in PREDICT. By default, the following are extracted when turned on in PREDICT (see also PREDICT):\n",
    "\n",
    "- [0x10, 0x1010]: Patient Age\n",
    "- [0x10, 0x40]: Patient Sex\n",
    "\n",
    "Other features can of course be added by editing the PREDICT function.\n",
    "\n",
    "As we already saved the DICOMs in the tutorial, we can simply add these to the network in a similar matter to the images and segmentations:\n"
   ]
  },
  {
   "cell_type": "code",
   "execution_count": null,
   "metadata": {},
   "outputs": [],
   "source": [
    "# Locate metadata sources and convert to VFS sources\n",
    "metadata_sources = glob.glob(('/home/{}/Documents/Data/STWStrategyMMD/*/metadata.dcm').format(username))\n",
    "metadata_sources = [i.replace(('/home/{}').format(username), 'vfs://home') for i in metadata_sources]\n",
    "metadata_sources = {os.path.basename(os.path.dirname(i)): i for i in metadata_sources}\n",
    "print metadata_sources\n",
    "\n",
    "# Add to network\n",
    "network.metadata_train.append(metadata_sources)"
   ]
  },
  {
   "cell_type": "markdown",
   "metadata": {},
   "source": [
    "Semantic features in radiomics are defined as features which are not extracted from an image, but determined in advance. These can for example be a score by a radiologist or the age and gender of a patient. The metadata features are in theory also semantic features. We separate them in WORC as the semantic features are extracted from a CSV file.\n",
    "\n",
    "Let's take a look at the semantic feature file we provided with this repository. We are using exactly the same function that WORC/PREDICT is using. Change the paths accordingly to where you located the repository."
   ]
  },
  {
   "cell_type": "code",
   "execution_count": null,
   "metadata": {},
   "outputs": [],
   "source": [
    "import csv\n",
    "\n",
    "# Change this path to where the semantics csv file is located\n",
    "semantics_file = ('/home/{}/Documents/WORCTutorial/Data/StrategyMMD/semantics.csv').format(username)\n",
    "\n",
    "# Load the semantic file\n",
    "semantics = dict()\n",
    "with open(semantics_file, 'rb') as f:\n",
    "    reader = csv.reader(f)\n",
    "    for num, row in enumerate(reader):\n",
    "        print(row)\n",
    "        if num == 0:\n",
    "            header = row\n",
    "            if header[0] != 'Patient':\n",
    "                raise ae.PREDICTAssertionError('First column of the semantics file should be patient ID!')\n",
    "\n",
    "            keys = list()\n",
    "            for key in header:\n",
    "                semantics[key] = list()\n",
    "                keys.append(key)\n",
    "        else:\n",
    "            for column in range(len(row)):\n",
    "                if column > 0:\n",
    "                    semantics[keys[column]].append(float(row[column]))\n",
    "                else:\n",
    "                    semantics[keys[column]].append(row[column])\n",
    "\n",
    "print(semantics)"
   ]
  },
  {
   "cell_type": "markdown",
   "metadata": {},
   "source": [
    "From the print, you can see the structure of the CSV file WORC expects.The first column should always head 'Patient' and should contain the patient labels used for matching against the images. The headers of the other columns are used as the names for the semantic names. The other values in the columns should correspond to the patients.\n",
    "\n",
    "**Note:** Currently, only numerical semantic features are supported."
   ]
  },
  {
   "cell_type": "markdown",
   "metadata": {},
   "source": [
    "We can again add it simply to the network as follows:"
   ]
  },
  {
   "cell_type": "code",
   "execution_count": null,
   "metadata": {},
   "outputs": [],
   "source": [
    "# Add to network\n",
    "semantics_source = semantics_file.replace(('/home/{}').format(username), 'vfs://home')\n",
    "network.semantics_train.append(semantics_source)"
   ]
  },
  {
   "cell_type": "markdown",
   "metadata": {},
   "source": [
    "## WIP\n",
    "\n",
    "### XNAT Plugin\n",
    "\n",
    "Navigate to the CT session of patient Interobs005 on the XNAT of the Multidelination project, which will lead you [here](https://xnat.bmia.nl/app/action/DisplayItemAction/search_element/xnat%3ActSessionData/search_field/xnat%3ActSessionData.ID/search_value/BMIAXNAT_E32058/popup/false/project/stwstrategymmd). Instead of having to download the images from XNAT ourselves, we can directly refer to them in WORC/fastr by using the XNAT plugin:\n",
    "\n",
    "\n",
    "xnat://xnat.example.com/search?projects=sandbox&subjects=subject[0-9][0-9][0-9]&experiments=*_BRAIN&scans=T1&resources=DICOM\n",
    "\n",
    "source_image_patient05 = 'xnat://xnat.bmia.nl/data/archive/projects/stwstrategymmd/subjects/subject001/experiments/experiment001/scans/T1/resources/DICOM'"
   ]
  }
 ],
 "metadata": {
  "kernelspec": {
   "display_name": "Python 2",
   "language": "python",
   "name": "python2"
  },
  "language_info": {
   "codemirror_mode": {
    "name": "ipython",
    "version": 2
   },
   "file_extension": ".py",
   "mimetype": "text/x-python",
   "name": "python",
   "nbconvert_exporter": "python",
   "pygments_lexer": "ipython2",
   "version": "2.7.15rc1"
  }
 },
 "nbformat": 4,
 "nbformat_minor": 2
}
