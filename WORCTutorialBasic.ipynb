{
 "cells": [
  {
   "attachments": {},
   "cell_type": "markdown",
   "metadata": {},
   "source": [
    "# WORC Tutorial: Basic\n",
    "\n",
    "Welcome to the tutorial of WORC: a Workflow for Optimal Radiomics\n",
    "Classification! This tutorial interacts with WORC through BasicWORC,\n",
    "which is based on SimpleWORC (SimpleWORC is the parent class of BasicWORC)\n",
    "but provides additional functionality. For # first time use, we recommend\n",
    "the WORCTutorialSimple using SimpleWORC, where we also\n",
    "mention tips and tricks also valid for BasicWORC."
   ]
  },
  {
   "cell_type": "code",
   "execution_count": 1,
   "metadata": {},
   "outputs": [
    {
     "name": "stdout",
     "output_type": "stream",
     "text": [
      "[WARNING]  warnings:0110 >> c:\\users\\martijn starmans\\.conda\\envs\\veworc\\lib\\site-packages\\sklearn\\utils\\deprecation.py:143: FutureWarning: The sklearn.feature_selection.base module is  deprecated in version 0.22 and will be removed in version 0.24. The corresponding classes / functions should instead be imported from sklearn.feature_selection. Anything that cannot be imported from sklearn.feature_selection is now part of the private API.\n",
      "  warnings.warn(message, FutureWarning)\n",
      "\n"
     ]
    }
   ],
   "source": [
    "# import neccesary packages\n",
    "from WORC import BasicWORC\n",
    "import os\n",
    "\n",
    "# These packages are only used in analysing the results\n",
    "import pandas as pd\n",
    "import json\n",
    "import fastr\n",
    "import glob\n",
    "\n",
    "# If you don't want to use your own data, we use the following example set,\n",
    "# see also the next code block in this example.\n",
    "from WORC.exampledata.datadownloader import download_HeadAndNeck\n",
    "\n",
    "# Define the folder this script is in, so we can easily find the example data\n",
    "script_path = os.getcwd()\n",
    "\n",
    "# NOTE: If on Google Colab, uncomment this line\n",
    "# script_path = os.path.join(script_path, 'WORCTutorial')\n",
    "\n",
    "# Determine whether you would like to use WORC for binary_classification,\n",
    "# multiclass_classification or regression\n",
    "modus = 'binary_classification'"
   ]
  },
  {
   "attachments": {},
   "cell_type": "markdown",
   "metadata": {},
   "source": [
    "\n",
    "\n",
    "---------------------------------------------------------------------------\n",
    "Input\n",
    "---------------------------------------------------------------------------\n",
    "\n",
    "This part will first largely follow the same steps as the SimpleWORC tutorial."
   ]
  },
  {
   "cell_type": "code",
   "execution_count": null,
   "metadata": {},
   "outputs": [],
   "source": [
    "# Download a subset of 20 patients in this folder. You can change these if you want.\n",
    "nsubjects = 20  # use \"all\" if you want to download all patients.\n",
    "data_path = os.path.join(script_path, 'Data')\n",
    "download_HeadAndNeck(datafolder=data_path, nsubjects=nsubjects)"
   ]
  },
  {
   "cell_type": "markdown",
   "metadata": {},
   "source": [
    "Define the inputs of our network"
   ]
  },
  {
   "cell_type": "code",
   "execution_count": null,
   "metadata": {},
   "outputs": [],
   "source": [
    "# Identify our data structure: change the fields below accordingly\n",
    "# if you use your own data.\n",
    "imagedatadir = os.path.join(data_path, 'stwstrategyhn1')\n",
    "image_file_name = 'image.nii.gz'\n",
    "segmentation_file_name = 'mask.nii.gz'\n",
    "\n",
    "# File in which the labels (i.e. outcome you want to predict) is stated\n",
    "# Again, change this accordingly if you use your own data.\n",
    "label_file = os.path.join(data_path, 'Examplefiles', 'pinfo_HN.csv')\n",
    "\n",
    "# Name of the label you want to predict\n",
    "if modus == 'binary_classification':\n",
    "    # Classification: predict a binary (0 or 1) label\n",
    "    label_name = ['imaginary_label_1']\n",
    "\n",
    "elif modus == 'regression':\n",
    "    # Regression: predict a continuous label\n",
    "    label_name = ['Age']\n",
    "\n",
    "elif modus == 'multiclass_classification':\n",
    "    # Multiclass classification: predict several mutually exclusive binaru labels together\n",
    "    label_name = ['imaginary_label_1', 'complement_label_1']\n",
    "\n",
    "# Determine whether we want to do a coarse quick experiment, or a full lengthy\n",
    "# one. Again, change this accordingly if you use your own data.\n",
    "coarse = True\n",
    "\n",
    "# Give your experiment a name\n",
    "experiment_name = 'Example_STWStrategyHN_BasicWORC'\n",
    "\n",
    "# Instead of the default tempdir, let's but the temporary output in a subfolder\n",
    "# in the same folder as this script\n",
    "tmpdir = os.path.join(script_path, 'WORC_' + experiment_name)\n",
    "print(f\"Temporary folder: {tmpdir}.\")"
   ]
  },
  {
   "attachments": {},
   "cell_type": "markdown",
   "metadata": {},
   "source": [
    "\n",
    "---------------------------------------------------------------------------\n",
    "The actual experiment\n",
    "---------------------------------------------------------------------------\n",
    "\n",
    "Here we will use BasicWORC. We could still use the ``..._from_this_directory`` SimpleWORC functions, but for\n",
    "this tutorial we will instead directly provide the data to BasicWORC ourselves.\n",
    "To this end, we need to create dictionaties, where the keys will be the sample\n",
    "names (e.g. patient ID) and the values the filenames. The keys are used\n",
    "to match segmentations to images, and match the files to the IDs provides in your\n",
    "label file, so make sure everything corresponds."
   ]
  },
  {
   "cell_type": "code",
   "execution_count": null,
   "metadata": {},
   "outputs": [],
   "source": [
    "# Create a WORC object\n",
    "experiment = BasicWORC(experiment_name)\n",
    "\n",
    "# Get the image files and convert to dictionary with patient names as keys\n",
    "images = glob.glob(os.path.join(imagedatadir, \"*\", image_file_name))\n",
    "images = {f\"{os.path.basename(os.path.dirname(image))}_0\": image for image in images}\n",
    "\n",
    "# We now append this dictionary to the images_train object. The\n",
    "# images_from_this_directory function from SimpleWORC also appends to this object.\n",
    "experiment.images_train.append(images)\n",
    "\n",
    "# We do the same with the segmentations\n",
    "segmentations = glob.glob(os.path.join(imagedatadir, \"*\", segmentation_file_name))\n",
    "segmentations = {f\"{os.path.basename(os.path.dirname(segmentation))}_0\": segmentation for segmentation in segmentations} \n",
    "experiment.segmentations_train.append(segmentations)\n",
    "    \n",
    "experiment.labels_from_this_file(label_file)\n",
    "experiment.predict_labels(label_name)\n",
    "\n",
    "# Set the types of images WORC has to process. Used in fingerprinting\n",
    "# Valid quantitative types are ['CT', 'PET', 'Thermography', 'ADC']\n",
    "# Valid qualitative types are ['MRI', 'DWI', 'US']\n",
    "experiment.set_image_types(['CT'])\n",
    "\n",
    "# Use the standard workflow for your specific modus\n",
    "if modus == 'binary_classification':\n",
    "    experiment.binary_classification(coarse=coarse)\n",
    "elif modus == 'regression':\n",
    "    experiment.regression(coarse=coarse)\n",
    "elif modus == 'multiclass_classification':\n",
    "    experiment.multiclass_classification(coarse=coarse)\n",
    "\n",
    "# Set the temporary directory\n",
    "experiment.set_tmpdir(tmpdir)"
   ]
  },
  {
   "attachments": {},
   "cell_type": "markdown",
   "metadata": {},
   "source": [
    "There are various other objects you can interact with, see https://worc.readthedocs.io/en/latest/static/user_manual.html#attributes-sources\n",
    "for an overview and the function of each attribute.\n",
    "    \n",
    "Note: You can keep appending dictionaries to these objects here if you want to\n",
    "use multiple images per patient, e.g. a T1 MRI and a T2 MRI. You should\n",
    "provide matching segmentations for each of the images, as WORC extracts the features\n",
    "per image-segmentation set. Except when you want to\n",
    "use special workflows, e.g. use image registration, see the WORC readthedocs.\n"
   ]
  },
  {
   "cell_type": "code",
   "execution_count": null,
   "metadata": {},
   "outputs": [],
   "source": [
    "# The rest remains the same as in SimpleWORC\n",
    "experiment.labels_from_this_file(label_file)\n",
    "experiment.predict_labels(label_name)\n",
    "\n",
    "# Set the types of images WORC has to process. Used in fingerprinting\n",
    "# Valid quantitative types are ['CT', 'PET', 'Thermography', 'ADC']\n",
    "# Valid qualitative types are ['MRI', 'DWI', 'US']\n",
    "experiment.set_image_types(['CT'])\n",
    "\n",
    "# Use the standard workflow for your specific modus\n",
    "if modus == 'binary_classification':\n",
    "    experiment.binary_classification(coarse=coarse)\n",
    "elif modus == 'regression':\n",
    "    experiment.regression(coarse=coarse)\n",
    "elif modus == 'multiclass_classification':\n",
    "    experiment.multiclass_classification(coarse=coarse)\n",
    "\n",
    "# Set the temporary directory\n",
    "experiment.set_tmpdir(tmpdir)"
   ]
  },
  {
   "cell_type": "code",
   "execution_count": null,
   "metadata": {},
   "outputs": [],
   "source": [
    "# Run the experiment!\n",
    "experiment.execute()"
   ]
  },
  {
   "cell_type": "markdown",
   "metadata": {},
   "source": [
    "---------------------------------------------------------------------------\n",
    "Analysis of results\n",
    "---------------------------------------------------------------------------\n",
    "\n",
    "There are two main outputs: the features for each patient/object, and the overall\n",
    "performance. These are stored as .hdf5 and .json files, respectively. By\n",
    "default, they are saved in the so-called \"fastr output mount\", in a subfolder\n",
    "named after your experiment name."
   ]
  },
  {
   "cell_type": "code",
   "execution_count": null,
   "metadata": {},
   "outputs": [],
   "source": [
    "# Locate output folder\n",
    "outputfolder = fastr.config.mounts['output']\n",
    "experiment_folder = os.path.join(outputfolder, 'WORC_' + experiment_name)\n",
    "\n",
    "print(f\"Your output is stored in {experiment_folder}.\")\n",
    "\n",
    "# Read the features for the first patient\n",
    "# NOTE: we use the glob package for scanning a folder to find specific files\n",
    "feature_files = glob.glob(os.path.join(experiment_folder,\n",
    "                                       'Features',\n",
    "                                       'features_*.hdf5'))\n",
    "if len(feature_files) == 0:\n",
    "    raise ValueError('No feature files found: your network has failed.')\n",
    "\n",
    "feature_files.sort()\n",
    "featurefile_p1 = feature_files[0]\n",
    "features_p1 = pd.read_hdf(featurefile_p1)\n",
    "\n",
    "# Read the overall peformance\n",
    "performance_file = os.path.join(experiment_folder, 'performance_all_0.json')\n",
    "if not os.path.exists(performance_file):\n",
    "    raise ValueError(f'No performance file {performance_file} found: your network has failed.')\n",
    "    \n",
    "with open(performance_file, 'r') as fp:\n",
    "    performance = json.load(fp)\n",
    "\n",
    "# Print the feature values and names\n",
    "print(\"Feature values from first patient:\")\n",
    "for v, l in zip(features_p1.feature_values, features_p1.feature_labels):\n",
    "    print(f\"\\t {l} : {v}.\")\n",
    "\n",
    "# Print the output performance\n",
    "print(\"\\n Performance:\")\n",
    "stats = performance['Statistics']\n",
    "for k, v in stats.items():\n",
    "    print(f\"\\t {k} {v}.\")"
   ]
  },
  {
   "cell_type": "markdown",
   "metadata": {},
   "source": [
    "**NOTE:** the performance is probably horrible, which is expected as we ran\n",
    "the experiment on coarse settings. These settings are recommended to only\n",
    "use for testing: see also below.\n"
   ]
  }
 ],
 "metadata": {
  "kernelspec": {
   "display_name": "Python 3.7.6 ('VEWORC')",
   "language": "python",
   "name": "python3"
  },
  "language_info": {
   "codemirror_mode": {
    "name": "ipython",
    "version": 3
   },
   "file_extension": ".py",
   "mimetype": "text/x-python",
   "name": "python",
   "nbconvert_exporter": "python",
   "pygments_lexer": "ipython3",
   "version": "3.7.6"
  },
  "vscode": {
   "interpreter": {
    "hash": "9ed99ebfaecbb93fba24de0c912838568cec8e40873d89cab18962835b65ad13"
   }
  }
 },
 "nbformat": 4,
 "nbformat_minor": 2
}
