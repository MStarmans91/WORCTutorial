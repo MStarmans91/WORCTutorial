{
 "cells": [
  {
   "cell_type": "markdown",
   "metadata": {},
   "source": [
    "# WORC Tutorial: Simple\n",
    "\n",
    "Welcome to the tutorial of WORC: a Workflow for Optimal Radiomics Classification! It will provide you with basis knowledge and practical skills on how to run the WORC. For advanced topics and WORCflows, please see the other notebooks provided with this tutorial. For installation details, see the ReadMe.md provided with this tutorial.\n",
    "\n",
    "\n",
    "This tutorial interacts with  WORC through SimpleWORC and is especially suitable for first time usage."
   ]
  },
  {
   "cell_type": "code",
   "execution_count": null,
   "metadata": {},
   "outputs": [],
   "source": [
    "# import neccesary packages\n",
    "from WORC import SimpleWORC\n",
    "import os\n",
    "\n",
    "# These packages are only used in analysing the results\n",
    "import pandas as pd\n",
    "import json\n",
    "import fastr\n",
    "import glob\n",
    "\n",
    "# If you don't want to use your own data, we use the following example set,\n",
    "# see also the next code block in this example.\n",
    "from WORC.exampledata.datadownloader import download_HeadAndNeck\n",
    "\n",
    "# Define the folder this script is in, so we can easily find the example data\n",
    "script_path = os.getcwd()"
   ]
  },
  {
   "cell_type": "markdown",
   "metadata": {},
   "source": [
    "\n",
    "\n",
    "---------------------------------------------------------------------------\n",
    "Input\n",
    "---------------------------------------------------------------------------\n",
    "The minimal inputs to WORC are:\n",
    "  - Images\n",
    "  - Segmentations\n",
    "  - Labels\n",
    "\n",
    "In SimpleWORC, we assume you have a folder \"datadir\", in which there is a\n",
    "folder for each patient, where in each folder there is a image.nii.gz and a mask.nii.gz:\n",
    "          Datadir\n",
    "              Patient_001\n",
    "                  image.nii.gz\n",
    "                  mask.nii.gz\n",
    "              Patient_002\n",
    "                  image.nii.gz\n",
    "                  mask.nii.gz\n",
    "              ...\n",
    "\n",
    "\n",
    "You can skip this part if you use your own data.\n",
    "In the example, We will use open source data from the online XNAT platform\n",
    "at https://xnat.bmia.nl/data/archive/projects/stwstrategyhn1. This dataset\n",
    "consists of CT scans of patients with Head and Neck tumors. "
   ]
  },
  {
   "cell_type": "code",
   "execution_count": null,
   "metadata": {},
   "outputs": [],
   "source": [
    "# Download a subset of 20 patients in this folder. You can change these if you want.\n",
    "nsubjects = 20  # use \"all\" if you want to download all patients.\n",
    "data_path = os.path.join(script_path, 'Data')\n",
    "download_HeadAndNeck(datafolder=data_path, nsubjects=nsubjects)"
   ]
  },
  {
   "cell_type": "markdown",
   "metadata": {},
   "source": [
    "Define the inputs of our network"
   ]
  },
  {
   "cell_type": "code",
   "execution_count": null,
   "metadata": {},
   "outputs": [],
   "source": [
    "# Identify our data structure: change the fields below accordingly\n",
    "# if you use your own data.\n",
    "imagedatadir = os.path.join(data_path, 'stwstrategyhn1')\n",
    "image_file_name = 'image.nii.gz'\n",
    "segmentation_file_name = 'mask.nii.gz'\n",
    "\n",
    "# File in which the labels (i.e. outcome you want to predict) is stated\n",
    "# Again, change this accordingly if you use your own data.\n",
    "label_file = os.path.join(data_path, 'Examplefiles', 'pinfo_HN.csv')\n",
    "\n",
    "# Name of the label you want to predict\n",
    "label_name = 'imaginary_label_1'\n",
    "\n",
    "# Determine whether we want to do a coarse quick experiment, or a full lengthy\n",
    "# one. Again, change this accordingly if you use your own data.\n",
    "coarse = True\n",
    "\n",
    "# Give your experiment a name\n",
    "experiment_name = 'Example_STWStrategyHN'\n",
    "\n",
    "# Instead of the default tempdir, let's but the temporary output in a subfolder\n",
    "# in the same folder as this script\n",
    "tmpdir = os.path.join(script_path, 'WORC_' + experiment_name)"
   ]
  },
  {
   "cell_type": "markdown",
   "metadata": {},
   "source": [
    "\n",
    "---------------------------------------------------------------------------\n",
    "The actual experiment\n",
    "---------------------------------------------------------------------------\n",
    "\n",
    "NOTE:  Precomputed features can be used instead of images and masks\n",
    "by instead using ``I.features_from_this_directory()`` in a similar fashion to below. "
   ]
  },
  {
   "cell_type": "code",
   "execution_count": null,
   "metadata": {},
   "outputs": [],
   "source": [
    "# Create a WORC object\n",
    "experiment = SimpleWORC(experiment_name)\n",
    "\n",
    "# Set the input data according to the variables we defined earlier\n",
    "experiment.images_from_this_directory(imagedatadir,\n",
    "                                      image_file_name=image_file_name)\n",
    "experiment.segmentations_from_this_directory(imagedatadir,\n",
    "                                             segmentation_file_name=segmentation_file_name)\n",
    "experiment.labels_from_this_file(label_file)\n",
    "experiment.predict_labels([label_name])\n",
    "\n",
    "# Use the standard workflow for binary classification\n",
    "experiment.binary_classification(coarse=coarse)\n",
    "\n",
    "# Set the temporary directory\n",
    "experiment.set_tmpdir(tmpdir)"
   ]
  },
  {
   "cell_type": "code",
   "execution_count": null,
   "metadata": {},
   "outputs": [],
   "source": [
    "# Run the experiment!\n",
    "experiment.execute()"
   ]
  },
  {
   "cell_type": "markdown",
   "metadata": {},
   "source": [
    "**NOTE:**  Precomputed features can be used instead of images and masks by instead using ``I.features_from_this_directory()`` in a similar fashion."
   ]
  },
  {
   "cell_type": "markdown",
   "metadata": {},
   "source": [
    "---------------------------------------------------------------------------\n",
    "Analysis of results\n",
    "---------------------------------------------------------------------------\n",
    "\n",
    "There are two main outputs: the features for each patient/object, and the overall\n",
    "performance. These are stored as .hdf5 and .json files, respectively. By\n",
    "default, they are saved in the so-called \"fastr output mount\", in a subfolder\n",
    "named after your experiment name."
   ]
  },
  {
   "cell_type": "code",
   "execution_count": null,
   "metadata": {},
   "outputs": [],
   "source": [
    "# Locate output folder\n",
    "outputfolder = fastr.config.mounts['output']\n",
    "experiment_folder = os.path.join(outputfolder, 'WORC_' + experiment_name)\n",
    "\n",
    "print(f\"Your output is stored in {experiment_folder}.\")\n",
    "\n",
    "# Read the features for the first patient\n",
    "# NOTE: we use the glob package for scanning a folder to find specific files\n",
    "feature_files = glob.glob(os.path.join(experiment_folder,\n",
    "                                       'Features',\n",
    "                                       'features_*.hdf5'))\n",
    "if len(feature_files) == 0:\n",
    "    raise ValueError('No feature files found: your network has failed.')\n",
    "    \n",
    "featurefile_p1 = feature_files[0]\n",
    "features_p1 = pd.read_hdf(featurefile_p1)\n",
    "\n",
    "# Read the overall peformance\n",
    "performance_file = os.path.join(experiment_folder, 'performance_all_0.json')\n",
    "if not os.path.exists(performance_file):\n",
    "    raise ValueError('No performance file found: your network has failed.')\n",
    "    \n",
    "with open(performance_file, 'r') as fp:\n",
    "    performance = json.load(fp)\n",
    "\n",
    "# Print the feature values and names\n",
    "print(\"Feature values:\")\n",
    "for v, l in zip(features_p1.feature_values, features_p1.feature_labels):\n",
    "    print(f\"\\t {l} : {v}.\")\n",
    "\n",
    "# Print the output performance\n",
    "print(\"\\n Performance:\")\n",
    "stats = performance['Statistics']\n",
    "for k, v in stats.items():\n",
    "    print(f\"\\t {k} {v}.\")"
   ]
  },
  {
   "cell_type": "markdown",
   "metadata": {},
   "source": [
    "**NOTE:** the performance is probably horrible, which is expected as we ran\n",
    "the experiment on coarse settings. These settings are recommended to only\n",
    "use for testing: see also below.\n"
   ]
  },
  {
   "cell_type": "markdown",
   "metadata": {},
   "source": [
    "---------------------------------------------------------------------------\n",
    "Tips and Tricks\n",
    "---------------------------------------------------------------------------\n",
    "\n",
    "For tips and tricks on running a full experiment instead of this simple\n",
    "example, adding more evaluation options, debuggin a crashed network etcetera,\n",
    "please go to https://worc.readthedocs.io/en/latest/static/user_manual.html\n",
    "\n",
    "Some things we would advice to always do:\n",
    "  - Run actual experiments on the full settings (coarse=False):\n",
    "  \n",
    "      ``coarse = False``\n",
    "      \n",
    "      ``experiment.binary_classification(coarse=coarse)``\n",
    "      \n",
    "  **Note**: this will result in more computation time. We therefore recommmend\n",
    "  to run this script on either a cluster or high performance PC. If so,\n",
    "  you may change the execution to use multiple cores to speed up computation\n",
    "  just before before experiment.execute():\n",
    "  \n",
    "      ``experiment.set_multicore_execution()``\n",
    "\n",
    "\n",
    "  - Add extensive evaluation: experiment.add_evaluation() before experiment.execute():\n",
    "  \n",
    "      ``experiment.add_evaluation()``"
   ]
  },
  {
   "cell_type": "code",
   "execution_count": null,
   "metadata": {},
   "outputs": [],
   "source": []
  }
 ],
 "metadata": {
  "kernelspec": {
   "display_name": "Python 3",
   "language": "python",
   "name": "python3"
  },
  "language_info": {
   "codemirror_mode": {
    "name": "ipython",
    "version": 3
   },
   "file_extension": ".py",
   "mimetype": "text/x-python",
   "name": "python",
   "nbconvert_exporter": "python",
   "pygments_lexer": "ipython3",
   "version": "3.7.4"
  }
 },
 "nbformat": 4,
 "nbformat_minor": 2
}
