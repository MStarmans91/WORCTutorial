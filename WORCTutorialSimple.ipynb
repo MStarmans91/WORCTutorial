{
 "cells": [
  {
   "cell_type": "markdown",
   "metadata": {},
   "source": [
    "# WORC Tutorial: Simple\n",
    "\n",
    "Welcome to the tutorial of WORC: a Workflow for Optimal Radiomics Classification! It will provide you with basis knowledge and practical skills on how to run the WORC. For advanced topics and WORCflows, please see the other notebooks provided with this tutorial. For installation details, see the ReadMe.md provided with this tutorial.\n",
    "\n",
    "\n",
    "This tutorial interacts with  WORC through SimpleWORC and is especially suitable for first time usage."
   ]
  },
  {
   "cell_type": "code",
   "execution_count": 1,
   "metadata": {},
   "outputs": [
    {
     "name": "stdout",
     "output_type": "stream",
     "text": [
      "[WARNING]  __init__:0078 >> Not running in a production installation (branch \"develop\" from source code)\n",
      "[WARNING]  warnings:0110 >> /home/martijn/Documents/WORC3/lib/python3.7/site-packages/sklearn/externals/six.py:31: DeprecationWarning: The module is deprecated in version 0.21 and will be removed in version 0.23 since we've dropped support for Python 2.7. Please rely on the official version of six (https://pypi.org/project/six/).\n",
      "  \"(https://pypi.org/project/six/).\", DeprecationWarning)\n",
      "\n",
      "[WARNING]  warnings:0110 >> /home/martijn/Documents/WORC3/lib/python3.7/site-packages/phasepack/tools.py:14: UserWarning: \n",
      "Module 'pyfftw' (FFTW Python bindings) could not be imported. To install it, try\n",
      "running 'pip install pyfftw' from the terminal. Falling back on the slower\n",
      "'fftpack' module for 2D Fourier transforms.\n",
      "  'fftpack' module for 2D Fourier transforms.\"\"\")\n",
      "\n"
     ]
    }
   ],
   "source": [
    "# impor neccesary packages\n",
    "from WORC import SimpleWORC\n",
    "import os\n",
    "\n",
    "# These packages are only used in analysing the results\n",
    "import pandas as pd\n",
    "import json\n",
    "import fastr\n",
    "import glob\n",
    "\n",
    "# If you don't want to use your own data, we use the following example set,\n",
    "# see also the next code block in this example.\n",
    "from WORC.exampledata.datadownloader import download_HeadAndNeck\n",
    "\n",
    "# Define the folder this script is in, so we can easily find the example data\n",
    "script_path = os.getcwd()"
   ]
  },
  {
   "cell_type": "markdown",
   "metadata": {},
   "source": [
    "\n",
    "\n",
    "---------------------------------------------------------------------------\n",
    "Input\n",
    "---------------------------------------------------------------------------\n",
    "The minimal inputs to WORC are:\n",
    "  - Images\n",
    "  - Segmentations\n",
    "  - Labels\n",
    "\n",
    "In SimpleWORC, we assume you have a folder \"datadir\", in which there is a\n",
    "folder for each patient, where in each folder there is a image.nii.gz and a mask.nii.gz:\n",
    "          Datadir\n",
    "              Patient_001\n",
    "                  image.nii.gz\n",
    "                  mask.nii.gz\n",
    "              Patient_002\n",
    "                  image.nii.gz\n",
    "                  mask.nii.gz\n",
    "              ...\n",
    "\n",
    "\n",
    "You can skip this part if you use your own data.\n",
    "In the example, We will use open source data from the online XNAT platform\n",
    "at https://xnat.bmia.nl/data/archive/projects/stwstrategyhn1. This dataset\n",
    "consists of CT scans of patients with Head and Neck tumors. "
   ]
  },
  {
   "cell_type": "code",
   "execution_count": 2,
   "metadata": {},
   "outputs": [
    {
     "name": "stdout",
     "output_type": "stream",
     "text": [
      "Working on subject 1/137\n",
      "\tDownloading patient HN1331, experiment HN1331_20190402_CT, scan 1.\n",
      "resource is NIFTI\n"
     ]
    },
    {
     "name": "stderr",
     "output_type": "stream",
     "text": [
      "183.6 KiB |#                                                      |   4.4 MiB/s\n"
     ]
    },
    {
     "name": "stdout",
     "output_type": "stream",
     "text": [
      "\tDownloading patient HN1331, experiment HN1331_20190402_CT, scan 1_3_6_1_4_1_40744_29_120873174302085915918976213152022016685.\n",
      "resource is NIFTI\n"
     ]
    },
    {
     "name": "stderr",
     "output_type": "stream",
     "text": [
      " 21.4 MiB |           #                                           |  19.3 MiB/s\n"
     ]
    },
    {
     "name": "stdout",
     "output_type": "stream",
     "text": [
      "Working on subject 2/137\n",
      "\tDownloading patient HN1519, experiment HN1519_20190402_CT, scan 1.\n",
      "resource is NIFTI\n"
     ]
    },
    {
     "name": "stderr",
     "output_type": "stream",
     "text": [
      "187.2 KiB |#                                                      |   4.7 MiB/s\n"
     ]
    },
    {
     "name": "stdout",
     "output_type": "stream",
     "text": [
      "\tDownloading patient HN1519, experiment HN1519_20190402_CT, scan 1_3_6_1_4_1_40744_29_178045394474815118369144065452878666404.\n",
      "resource is NIFTI\n"
     ]
    },
    {
     "name": "stderr",
     "output_type": "stream",
     "text": [
      " 19.1 MiB |        #                                              |  23.6 MiB/s\n"
     ]
    },
    {
     "name": "stdout",
     "output_type": "stream",
     "text": [
      "Working on subject 3/137\n",
      "\tDownloading patient HN1088, experiment HN1088_20190402_CT, scan 1.\n",
      "resource is NIFTI\n"
     ]
    },
    {
     "name": "stderr",
     "output_type": "stream",
     "text": [
      "209.3 KiB |#                                                      |   2.4 MiB/s\n"
     ]
    },
    {
     "name": "stdout",
     "output_type": "stream",
     "text": [
      "\tDownloading patient HN1088, experiment HN1088_20190402_CT, scan 1_3_6_1_4_1_40744_29_120903286350475892686849765504908597220.\n",
      "resource is NIFTI\n"
     ]
    },
    {
     "name": "stderr",
     "output_type": "stream",
     "text": [
      " 20.7 MiB |         #                                             |  21.9 MiB/s\n"
     ]
    },
    {
     "name": "stdout",
     "output_type": "stream",
     "text": [
      "Working on subject 4/137\n",
      "\tDownloading patient HN1260, experiment HN1260_20190402_CT, scan 1.\n",
      "resource is NIFTI\n"
     ]
    },
    {
     "name": "stderr",
     "output_type": "stream",
     "text": [
      "217.0 KiB | #                                                     |   1.5 MiB/s\n"
     ]
    },
    {
     "name": "stdout",
     "output_type": "stream",
     "text": [
      "\tDownloading patient HN1260, experiment HN1260_20190402_CT, scan 1_3_6_1_4_1_40744_29_161797156309701878529360999104102719772.\n",
      "resource is NIFTI\n"
     ]
    },
    {
     "name": "stderr",
     "output_type": "stream",
     "text": [
      " 19.7 MiB |          #                                            |  19.5 MiB/s\n"
     ]
    },
    {
     "name": "stdout",
     "output_type": "stream",
     "text": [
      "Working on subject 5/137\n",
      "\tDownloading patient HN1192, experiment HN1192_20190402_CT, scan 1.\n",
      "resource is NIFTI\n"
     ]
    },
    {
     "name": "stderr",
     "output_type": "stream",
     "text": [
      "209.3 KiB | #                                                     |   1.2 MiB/s\n"
     ]
    },
    {
     "name": "stdout",
     "output_type": "stream",
     "text": [
      "\tDownloading patient HN1192, experiment HN1192_20190402_CT, scan 1_3_6_1_4_1_40744_29_76038811511814195873478246519752470711.\n",
      "resource is NIFTI\n"
     ]
    },
    {
     "name": "stderr",
     "output_type": "stream",
     "text": [
      " 19.8 MiB |      #                                                |  29.5 MiB/s\n"
     ]
    },
    {
     "name": "stdout",
     "output_type": "stream",
     "text": [
      "Working on subject 6/137\n",
      "\tDownloading patient HN1501, experiment HN1501_20190403_CT, scan 1.\n",
      "resource is NIFTI\n"
     ]
    },
    {
     "name": "stderr",
     "output_type": "stream",
     "text": [
      "520.6 KiB | #                                                     |   3.3 MiB/s\n"
     ]
    },
    {
     "name": "stdout",
     "output_type": "stream",
     "text": [
      "\tDownloading patient HN1501, experiment HN1501_20190403_CT, scan 1_3_6_1_4_1_40744_29_294587997382261494217023015100501023442.\n",
      "resource is NIFTI\n"
     ]
    },
    {
     "name": "stderr",
     "output_type": "stream",
     "text": [
      " 20.3 MiB |       #                                               |  28.0 MiB/s\n"
     ]
    },
    {
     "name": "stdout",
     "output_type": "stream",
     "text": [
      "Working on subject 7/137\n",
      "\tDownloading patient HN1259, experiment HN1259_20190402_CT, scan 1.\n",
      "resource is NIFTI\n"
     ]
    },
    {
     "name": "stderr",
     "output_type": "stream",
     "text": [
      " 94.5 KiB |#                                                      |   8.3 MiB/s\n"
     ]
    },
    {
     "name": "stdout",
     "output_type": "stream",
     "text": [
      "\tDownloading patient HN1259, experiment HN1259_20190402_CT, scan 1_3_6_1_4_1_40744_29_163029519172728433236936734659203480802.\n",
      "resource is NIFTI\n"
     ]
    },
    {
     "name": "stderr",
     "output_type": "stream",
     "text": [
      " 17.8 MiB |      #                                                |  27.1 MiB/s\n"
     ]
    },
    {
     "name": "stdout",
     "output_type": "stream",
     "text": [
      "Working on subject 8/137\n",
      "\tDownloading patient HN1372, experiment HN1372_20190402_CT, scan 1.\n",
      "resource is NIFTI\n"
     ]
    },
    {
     "name": "stderr",
     "output_type": "stream",
     "text": [
      "488.1 KiB |#                                                      |   6.7 MiB/s\n"
     ]
    },
    {
     "name": "stdout",
     "output_type": "stream",
     "text": [
      "\tDownloading patient HN1372, experiment HN1372_20190402_CT, scan 1_3_6_1_4_1_40744_29_144464477074766979879254219958116907520.\n",
      "resource is NIFTI\n"
     ]
    },
    {
     "name": "stderr",
     "output_type": "stream",
     "text": [
      " 23.6 MiB |       #                                               |  31.3 MiB/s\n"
     ]
    },
    {
     "name": "stdout",
     "output_type": "stream",
     "text": [
      "Working on subject 9/137\n",
      "\tDownloading patient HN1560, experiment HN1560_20190402_CT, scan 1.\n",
      "resource is NIFTI\n"
     ]
    },
    {
     "name": "stderr",
     "output_type": "stream",
     "text": [
      "134.9 KiB |#                                                      |  11.0 MiB/s\n"
     ]
    },
    {
     "name": "stdout",
     "output_type": "stream",
     "text": [
      "\tDownloading patient HN1560, experiment HN1560_20190402_CT, scan 1_3_6_1_4_1_40744_29_131924080354178326530168765579293823568.\n",
      "resource is NIFTI\n"
     ]
    },
    {
     "name": "stderr",
     "output_type": "stream",
     "text": [
      " 19.1 MiB |       #                                               |  26.6 MiB/s\n"
     ]
    },
    {
     "name": "stdout",
     "output_type": "stream",
     "text": [
      "Working on subject 10/137\n",
      "\tDownloading patient HN1748, experiment HN1748_20190403_CT, scan 1.\n",
      "resource is NIFTI\n"
     ]
    },
    {
     "name": "stderr",
     "output_type": "stream",
     "text": [
      "474.7 KiB | #                                                     |   3.8 MiB/s\n"
     ]
    },
    {
     "name": "stdout",
     "output_type": "stream",
     "text": [
      "\tDownloading patient HN1748, experiment HN1748_20190403_CT, scan 1_3_6_1_4_1_40744_29_33682544755686290289659265674027017323.\n",
      "resource is NIFTI\n"
     ]
    },
    {
     "name": "stderr",
     "output_type": "stream",
     "text": [
      " 21.6 MiB |       #                                               |  29.7 MiB/s\n"
     ]
    },
    {
     "name": "stdout",
     "output_type": "stream",
     "text": [
      "Working on subject 11/137\n",
      "\tDownloading patient HN1004, experiment HN1004_20190403_CT, scan 1.\n",
      "resource is NIFTI\n"
     ]
    },
    {
     "name": "stderr",
     "output_type": "stream",
     "text": [
      "488.4 KiB | #                                                     |   2.5 MiB/s\n"
     ]
    },
    {
     "name": "stdout",
     "output_type": "stream",
     "text": [
      "\tDownloading patient HN1004, experiment HN1004_20190403_CT, scan 1_3_6_1_4_1_40744_29_33371661027192187491509798061184654147.\n",
      "resource is NIFTI\n"
     ]
    },
    {
     "name": "stderr",
     "output_type": "stream",
     "text": [
      " 24.5 MiB |        #                                              |  28.6 MiB/s\n"
     ]
    },
    {
     "name": "stdout",
     "output_type": "stream",
     "text": [
      "Working on subject 12/137\n",
      "\tDownloading patient HN1491, experiment HN1491_20190402_CT, scan 1.\n",
      "resource is NIFTI\n"
     ]
    },
    {
     "name": "stderr",
     "output_type": "stream",
     "text": [
      "469.0 KiB |  #                                                    |   1.7 MiB/s\n"
     ]
    },
    {
     "name": "stdout",
     "output_type": "stream",
     "text": [
      "\tDownloading patient HN1491, experiment HN1491_20190402_CT, scan 1_3_6_1_4_1_40744_29_83995353912492289117434904755737246047.\n",
      "resource is NIFTI\n"
     ]
    },
    {
     "name": "stderr",
     "output_type": "stream",
     "text": [
      " 17.5 MiB |       #                                               |  24.8 MiB/s\n"
     ]
    },
    {
     "name": "stdout",
     "output_type": "stream",
     "text": [
      "Working on subject 13/137\n",
      "\tDownloading patient HN1146, experiment HN1146_20190402_CT, scan 1.\n",
      "resource is NIFTI\n"
     ]
    },
    {
     "name": "stderr",
     "output_type": "stream",
     "text": [
      "501.3 KiB | #                                                     |   4.0 MiB/s\n"
     ]
    },
    {
     "name": "stdout",
     "output_type": "stream",
     "text": [
      "\tDownloading patient HN1146, experiment HN1146_20190402_CT, scan 1_3_6_1_4_1_40744_29_45084863479635845781442267453092995463.\n",
      "resource is NIFTI\n"
     ]
    },
    {
     "name": "stderr",
     "output_type": "stream",
     "text": [
      " 21.2 MiB |       #                                               |  26.9 MiB/s\n"
     ]
    },
    {
     "name": "stdout",
     "output_type": "stream",
     "text": [
      "Working on subject 14/137\n",
      "\tDownloading patient HN1339, experiment HN1339_20190402_CT, scan 1.\n",
      "resource is NIFTI\n"
     ]
    },
    {
     "name": "stderr",
     "output_type": "stream",
     "text": [
      "178.9 KiB |#                                                      |   7.9 MiB/s\n"
     ]
    },
    {
     "name": "stdout",
     "output_type": "stream",
     "text": [
      "\tDownloading patient HN1339, experiment HN1339_20190402_CT, scan 1_3_6_1_4_1_40744_29_159924772318099919605643394483351782918.\n",
      "resource is NIFTI\n"
     ]
    },
    {
     "name": "stderr",
     "output_type": "stream",
     "text": [
      " 19.6 MiB |      #                                                |  28.4 MiB/s\n"
     ]
    },
    {
     "name": "stdout",
     "output_type": "stream",
     "text": [
      "Working on subject 15/137\n",
      "\tDownloading patient HN1159, experiment HN1159_20190402_CT, scan 1.\n",
      "resource is NIFTI\n"
     ]
    },
    {
     "name": "stderr",
     "output_type": "stream",
     "text": [
      "233.4 KiB | #                                                     |   1.6 MiB/s\n"
     ]
    },
    {
     "name": "stdout",
     "output_type": "stream",
     "text": [
      "\tDownloading patient HN1159, experiment HN1159_20190402_CT, scan 1_3_6_1_4_1_40744_29_304948212229053443748913181579593614456.\n",
      "resource is NIFTI\n"
     ]
    },
    {
     "name": "stderr",
     "output_type": "stream",
     "text": [
      " 19.9 MiB |       #                                               |  27.5 MiB/s\n"
     ]
    },
    {
     "name": "stdout",
     "output_type": "stream",
     "text": [
      "Working on subject 16/137\n",
      "\tDownloading patient HN1554, experiment HN1554_20190402_CT, scan 1.\n",
      "resource is NIFTI\n"
     ]
    },
    {
     "name": "stderr",
     "output_type": "stream",
     "text": [
      " 35.3 KiB |#                                                      |  10.0 MiB/s\n"
     ]
    },
    {
     "name": "stdout",
     "output_type": "stream",
     "text": [
      "\tDownloading patient HN1554, experiment HN1554_20190402_CT, scan 1_3_6_1_4_1_40744_29_70836216037838166025574231058696520721.\n",
      "resource is NIFTI\n"
     ]
    },
    {
     "name": "stderr",
     "output_type": "stream",
     "text": [
      " 23.7 MiB |        #                                              |  29.1 MiB/s\n"
     ]
    },
    {
     "name": "stdout",
     "output_type": "stream",
     "text": [
      "Working on subject 17/137\n",
      "\tDownloading patient HN1077, experiment HN1077_20190403_CT, scan 1.\n",
      "resource is NIFTI\n"
     ]
    },
    {
     "name": "stderr",
     "output_type": "stream",
     "text": [
      " 64.3 KiB |#                                                      |   3.3 MiB/s\n"
     ]
    },
    {
     "name": "stdout",
     "output_type": "stream",
     "text": [
      "\tDownloading patient HN1077, experiment HN1077_20190403_CT, scan 1_3_6_1_4_1_40744_29_289821604949411243837449577785917441701.\n",
      "resource is NIFTI\n"
     ]
    },
    {
     "name": "stderr",
     "output_type": "stream",
     "text": [
      " 18.1 MiB |       #                                               |  25.5 MiB/s\n"
     ]
    },
    {
     "name": "stdout",
     "output_type": "stream",
     "text": [
      "Working on subject 18/137\n",
      "\tDownloading patient HN1524, experiment HN1524_20190403_CT, scan 1.\n",
      "resource is NIFTI\n"
     ]
    },
    {
     "name": "stderr",
     "output_type": "stream",
     "text": [
      " 84.7 KiB |#                                                      |   7.9 MiB/s\n"
     ]
    },
    {
     "name": "stdout",
     "output_type": "stream",
     "text": [
      "\tDownloading patient HN1524, experiment HN1524_20190403_CT, scan 1_3_6_1_4_1_40744_29_217593089023368120144332181985591455451.\n",
      "resource is NIFTI\n"
     ]
    },
    {
     "name": "stderr",
     "output_type": "stream",
     "text": [
      " 26.9 MiB |         #                                             |  29.7 MiB/s\n"
     ]
    },
    {
     "name": "stdout",
     "output_type": "stream",
     "text": [
      "Working on subject 19/137\n",
      "\tDownloading patient HN1323, experiment HN1323_20190403_CT, scan 1.\n",
      "resource is NIFTI\n"
     ]
    },
    {
     "name": "stderr",
     "output_type": "stream",
     "text": [
      "517.4 KiB |#                                                      |   6.0 MiB/s\n"
     ]
    },
    {
     "name": "stdout",
     "output_type": "stream",
     "text": [
      "\tDownloading patient HN1323, experiment HN1323_20190403_CT, scan 1_3_6_1_4_1_40744_29_148778682230814551705999265250460576784.\n",
      "resource is NIFTI\n"
     ]
    },
    {
     "name": "stderr",
     "output_type": "stream",
     "text": [
      " 20.8 MiB |       #                                               |  29.6 MiB/s\n"
     ]
    },
    {
     "name": "stdout",
     "output_type": "stream",
     "text": [
      "Working on subject 20/137\n",
      "\tDownloading patient HN1342, experiment HN1342_20190404_CT, scan 1.\n",
      "resource is NIFTI\n"
     ]
    },
    {
     "name": "stderr",
     "output_type": "stream",
     "text": [
      " 34.4 KiB |#                                                      |   3.9 MiB/s\n"
     ]
    },
    {
     "name": "stdout",
     "output_type": "stream",
     "text": [
      "\tDownloading patient HN1342, experiment HN1342_20190404_CT, scan 1_3_6_1_4_1_40744_29_135520745570260793022859088319256240566.\n",
      "resource is NIFTI\n"
     ]
    },
    {
     "name": "stderr",
     "output_type": "stream",
     "text": [
      " 19.5 MiB |       #                                               |  27.3 MiB/s\n"
     ]
    },
    {
     "name": "stdout",
     "output_type": "stream",
     "text": [
      "Done downloading!\n"
     ]
    }
   ],
   "source": [
    "# Download a subset of 20 patients in this folder. You can change these if you want.\n",
    "nsubjects = 20  # use \"all\" if you want to download all patients.\n",
    "data_path = os.path.join(script_path, 'Data')\n",
    "download_HeadAndNeck(datafolder=data_path, nsubjects=nsubjects)"
   ]
  },
  {
   "cell_type": "markdown",
   "metadata": {},
   "source": [
    "Define the inputs of our network"
   ]
  },
  {
   "cell_type": "code",
   "execution_count": 3,
   "metadata": {},
   "outputs": [],
   "source": [
    "# Identify our data structure: change the fields below accordingly\n",
    "# if you use your own data.\n",
    "imagedatadir = os.path.join(data_path, 'stwstrategyhn1')\n",
    "image_file_name = 'image.nii.gz'\n",
    "segmentation_file_name = 'mask.nii.gz'\n",
    "\n",
    "# File in which the labels (i.e. outcome you want to predict) is stated\n",
    "# Again, change this accordingly if you use your own data.\n",
    "label_file = os.path.join(data_path, 'Examplefiles', 'pinfo_HN.csv')\n",
    "\n",
    "# Name of the label you want to predict\n",
    "label_name = 'imaginary_label_1'\n",
    "\n",
    "# Determine whether we want to do a coarse quick experiment, or a full lengthy\n",
    "# one. Again, change this accordingly if you use your own data.\n",
    "coarse = True\n",
    "\n",
    "# Give your experiment a name\n",
    "experiment_name = 'Example_STWStrategyHN'\n",
    "\n",
    "# Instead of the default tempdir, let's but the temporary output in a subfolder\n",
    "# in the same folder as this script\n",
    "tmpdir = os.path.join(script_path, 'WORC_' + experiment_name)"
   ]
  },
  {
   "cell_type": "markdown",
   "metadata": {},
   "source": [
    "\n",
    "---------------------------------------------------------------------------\n",
    "The actual experiment\n",
    "---------------------------------------------------------------------------\n",
    "\n",
    "NOTE:  Precomputed features can be used instead of images and masks\n",
    "by instead using ``I.features_from_this_directory()`` in a similar fashion to below. "
   ]
  },
  {
   "cell_type": "code",
   "execution_count": 6,
   "metadata": {},
   "outputs": [
    {
     "name": "stdout",
     "output_type": "stream",
     "text": [
      "BigrClusterDetector detected False.\n",
      "CartesiusClusterDetector detected False.\n",
      "BigrClusterDetector detected False.\n",
      "CartesiusClusterDetector detected False.\n"
     ]
    }
   ],
   "source": [
    "# Create a WORC object\n",
    "experiment = SimpleWORC(experiment_name)\n",
    "\n",
    "# Set the input data according to the variables we defined earlier\n",
    "experiment.images_from_this_directory(imagedatadir,\n",
    "                             image_file_name=image_file_name)\n",
    "experiment.segmentations_from_this_directory(imagedatadir,\n",
    "                                    segmentation_file_name=segmentation_file_name)\n",
    "experiment.labels_from_this_file(label_file)\n",
    "experiment.predict_labels([label_name])\n",
    "\n",
    "# Use the standard workflow for binary classification\n",
    "experiment.binary_classification(coarse=coarse)\n",
    "\n",
    "# Set the temporary directory\n",
    "experiment.set_tmpdir(tmpdir)\n",
    "\n"
   ]
  },
  {
   "cell_type": "code",
   "execution_count": 7,
   "metadata": {},
   "outputs": [
    {
     "name": "stdout",
     "output_type": "stream",
     "text": [
      "DebugDetector detected False.\n",
      "[INFO] networkrun:0517 >> ####################################\n",
      "[INFO] networkrun:0518 >> #     network execution STARTED    #\n",
      "[INFO] networkrun:0519 >> ####################################\n",
      "[INFO] networkrun:0544 >> Running network via /home/martijn/Documents/WORC3/src/fastr/fastr/api/__init__.py (last modified Wed Oct 16 16:42:02 2019)\n",
      "[INFO] networkrun:0545 >> FASTR loaded from /home/martijn/Documents/WORC3/src/fastr/fastr\n",
      "[INFO] networkrun:0561 >> Network run tmpdir: /home/martijn/git/WORCTutorial/WORC_Example_STWStrategyHN\n",
      "[INFO] networkchunker:0146 >> Adding classification to candidates (blocking False)\n",
      "[INFO] networkchunker:0146 >> Adding performance to candidates (blocking False)\n",
      "[INFO] networkchunker:0146 >> Adding features_train_CT_0 to candidates (blocking False)\n",
      "[INFO]   noderun:0576 >> Creating job for node fastr:///networks/WORC_Example_STWStrategyHN/0.0/runs/WORC_Example_STWStrategyHN_2019-10-16T17-50-17/nodelist/config_classification_source sample id <SampleId ('id_0',)>, index <SampleIndex (0)>\n",
      "[INFO]   noderun:0576 >> Creating job for node fastr:///networks/WORC_Example_STWStrategyHN/0.0/runs/WORC_Example_STWStrategyHN_2019-10-16T17-50-17/nodelist/patientclass_train sample id <SampleId ('id_0',)>, index <SampleIndex (0)>\n",
      "[INFO]   noderun:0576 >> Creating job for node fastr:///networks/WORC_Example_STWStrategyHN/0.0/runs/WORC_Example_STWStrategyHN_2019-10-16T17-50-17/nodelist/parameters_CT_0 sample id <SampleId ('id_0',)>, index <SampleIndex (0)>\n",
      "[INFO]   noderun:0576 >> Creating job for node fastr:///networks/WORC_Example_STWStrategyHN/0.0/runs/WORC_Example_STWStrategyHN_2019-10-16T17-50-17/nodelist/images_train_CT_0 sample id <SampleId ('HN1004',)>, index <SampleIndex (0)>\n",
      "[INFO]   noderun:0576 >> Creating job for node fastr:///networks/WORC_Example_STWStrategyHN/0.0/runs/WORC_Example_STWStrategyHN_2019-10-16T17-50-17/nodelist/images_train_CT_0 sample id <SampleId ('HN1077',)>, index <SampleIndex (1)>\n",
      "[INFO]   noderun:0576 >> Creating job for node fastr:///networks/WORC_Example_STWStrategyHN/0.0/runs/WORC_Example_STWStrategyHN_2019-10-16T17-50-17/nodelist/images_train_CT_0 sample id <SampleId ('HN1088',)>, index <SampleIndex (2)>\n",
      "[INFO]   noderun:0576 >> Creating job for node fastr:///networks/WORC_Example_STWStrategyHN/0.0/runs/WORC_Example_STWStrategyHN_2019-10-16T17-50-17/nodelist/images_train_CT_0 sample id <SampleId ('HN1146',)>, index <SampleIndex (3)>\n",
      "[INFO]   noderun:0576 >> Creating job for node fastr:///networks/WORC_Example_STWStrategyHN/0.0/runs/WORC_Example_STWStrategyHN_2019-10-16T17-50-17/nodelist/images_train_CT_0 sample id <SampleId ('HN1159',)>, index <SampleIndex (4)>\n",
      "[INFO]   noderun:0576 >> Creating job for node fastr:///networks/WORC_Example_STWStrategyHN/0.0/runs/WORC_Example_STWStrategyHN_2019-10-16T17-50-17/nodelist/images_train_CT_0 sample id <SampleId ('HN1192',)>, index <SampleIndex (5)>\n",
      "[INFO]   noderun:0576 >> Creating job for node fastr:///networks/WORC_Example_STWStrategyHN/0.0/runs/WORC_Example_STWStrategyHN_2019-10-16T17-50-17/nodelist/images_train_CT_0 sample id <SampleId ('HN1259',)>, index <SampleIndex (6)>\n",
      "[INFO]   noderun:0576 >> Creating job for node fastr:///networks/WORC_Example_STWStrategyHN/0.0/runs/WORC_Example_STWStrategyHN_2019-10-16T17-50-17/nodelist/images_train_CT_0 sample id <SampleId ('HN1260',)>, index <SampleIndex (7)>\n",
      "[INFO]   noderun:0576 >> Creating job for node fastr:///networks/WORC_Example_STWStrategyHN/0.0/runs/WORC_Example_STWStrategyHN_2019-10-16T17-50-17/nodelist/images_train_CT_0 sample id <SampleId ('HN1323',)>, index <SampleIndex (8)>\n",
      "[INFO]   noderun:0576 >> Creating job for node fastr:///networks/WORC_Example_STWStrategyHN/0.0/runs/WORC_Example_STWStrategyHN_2019-10-16T17-50-17/nodelist/images_train_CT_0 sample id <SampleId ('HN1331',)>, index <SampleIndex (9)>\n",
      "[INFO]   noderun:0576 >> Creating job for node fastr:///networks/WORC_Example_STWStrategyHN/0.0/runs/WORC_Example_STWStrategyHN_2019-10-16T17-50-17/nodelist/images_train_CT_0 sample id <SampleId ('HN1339',)>, index <SampleIndex (10)>\n",
      "[INFO]   noderun:0576 >> Creating job for node fastr:///networks/WORC_Example_STWStrategyHN/0.0/runs/WORC_Example_STWStrategyHN_2019-10-16T17-50-17/nodelist/images_train_CT_0 sample id <SampleId ('HN1342',)>, index <SampleIndex (11)>\n",
      "[INFO]   noderun:0576 >> Creating job for node fastr:///networks/WORC_Example_STWStrategyHN/0.0/runs/WORC_Example_STWStrategyHN_2019-10-16T17-50-17/nodelist/images_train_CT_0 sample id <SampleId ('HN1372',)>, index <SampleIndex (12)>\n",
      "[INFO]   noderun:0576 >> Creating job for node fastr:///networks/WORC_Example_STWStrategyHN/0.0/runs/WORC_Example_STWStrategyHN_2019-10-16T17-50-17/nodelist/images_train_CT_0 sample id <SampleId ('HN1491',)>, index <SampleIndex (13)>\n",
      "[INFO]   noderun:0576 >> Creating job for node fastr:///networks/WORC_Example_STWStrategyHN/0.0/runs/WORC_Example_STWStrategyHN_2019-10-16T17-50-17/nodelist/images_train_CT_0 sample id <SampleId ('HN1501',)>, index <SampleIndex (14)>\n",
      "[INFO]   noderun:0576 >> Creating job for node fastr:///networks/WORC_Example_STWStrategyHN/0.0/runs/WORC_Example_STWStrategyHN_2019-10-16T17-50-17/nodelist/images_train_CT_0 sample id <SampleId ('HN1519',)>, index <SampleIndex (15)>\n",
      "[INFO]   noderun:0576 >> Creating job for node fastr:///networks/WORC_Example_STWStrategyHN/0.0/runs/WORC_Example_STWStrategyHN_2019-10-16T17-50-17/nodelist/images_train_CT_0 sample id <SampleId ('HN1524',)>, index <SampleIndex (16)>\n",
      "[INFO]   noderun:0576 >> Creating job for node fastr:///networks/WORC_Example_STWStrategyHN/0.0/runs/WORC_Example_STWStrategyHN_2019-10-16T17-50-17/nodelist/images_train_CT_0 sample id <SampleId ('HN1554',)>, index <SampleIndex (17)>\n",
      "[INFO]   noderun:0576 >> Creating job for node fastr:///networks/WORC_Example_STWStrategyHN/0.0/runs/WORC_Example_STWStrategyHN_2019-10-16T17-50-17/nodelist/images_train_CT_0 sample id <SampleId ('HN1560',)>, index <SampleIndex (18)>\n",
      "[INFO]   noderun:0576 >> Creating job for node fastr:///networks/WORC_Example_STWStrategyHN/0.0/runs/WORC_Example_STWStrategyHN_2019-10-16T17-50-17/nodelist/images_train_CT_0 sample id <SampleId ('HN1748',)>, index <SampleIndex (19)>\n",
      "[INFO]   noderun:0576 >> Creating job for node fastr:///networks/WORC_Example_STWStrategyHN/0.0/runs/WORC_Example_STWStrategyHN_2019-10-16T17-50-17/nodelist/segmentations_train_CT_0 sample id <SampleId ('HN1004',)>, index <SampleIndex (0)>\n",
      "[INFO]   noderun:0576 >> Creating job for node fastr:///networks/WORC_Example_STWStrategyHN/0.0/runs/WORC_Example_STWStrategyHN_2019-10-16T17-50-17/nodelist/segmentations_train_CT_0 sample id <SampleId ('HN1077',)>, index <SampleIndex (1)>\n",
      "[INFO]   noderun:0576 >> Creating job for node fastr:///networks/WORC_Example_STWStrategyHN/0.0/runs/WORC_Example_STWStrategyHN_2019-10-16T17-50-17/nodelist/segmentations_train_CT_0 sample id <SampleId ('HN1088',)>, index <SampleIndex (2)>\n",
      "[INFO]   noderun:0576 >> Creating job for node fastr:///networks/WORC_Example_STWStrategyHN/0.0/runs/WORC_Example_STWStrategyHN_2019-10-16T17-50-17/nodelist/segmentations_train_CT_0 sample id <SampleId ('HN1146',)>, index <SampleIndex (3)>\n",
      "[INFO]   noderun:0576 >> Creating job for node fastr:///networks/WORC_Example_STWStrategyHN/0.0/runs/WORC_Example_STWStrategyHN_2019-10-16T17-50-17/nodelist/segmentations_train_CT_0 sample id <SampleId ('HN1159',)>, index <SampleIndex (4)>\n",
      "[INFO]   noderun:0576 >> Creating job for node fastr:///networks/WORC_Example_STWStrategyHN/0.0/runs/WORC_Example_STWStrategyHN_2019-10-16T17-50-17/nodelist/segmentations_train_CT_0 sample id <SampleId ('HN1192',)>, index <SampleIndex (5)>\n",
      "[INFO]   noderun:0576 >> Creating job for node fastr:///networks/WORC_Example_STWStrategyHN/0.0/runs/WORC_Example_STWStrategyHN_2019-10-16T17-50-17/nodelist/segmentations_train_CT_0 sample id <SampleId ('HN1259',)>, index <SampleIndex (6)>\n",
      "[INFO]   noderun:0576 >> Creating job for node fastr:///networks/WORC_Example_STWStrategyHN/0.0/runs/WORC_Example_STWStrategyHN_2019-10-16T17-50-17/nodelist/segmentations_train_CT_0 sample id <SampleId ('HN1260',)>, index <SampleIndex (7)>\n",
      "[INFO]   noderun:0576 >> Creating job for node fastr:///networks/WORC_Example_STWStrategyHN/0.0/runs/WORC_Example_STWStrategyHN_2019-10-16T17-50-17/nodelist/segmentations_train_CT_0 sample id <SampleId ('HN1323',)>, index <SampleIndex (8)>\n"
     ]
    },
    {
     "name": "stdout",
     "output_type": "stream",
     "text": [
      "[INFO]   noderun:0576 >> Creating job for node fastr:///networks/WORC_Example_STWStrategyHN/0.0/runs/WORC_Example_STWStrategyHN_2019-10-16T17-50-17/nodelist/segmentations_train_CT_0 sample id <SampleId ('HN1331',)>, index <SampleIndex (9)>\n",
      "[INFO]   noderun:0576 >> Creating job for node fastr:///networks/WORC_Example_STWStrategyHN/0.0/runs/WORC_Example_STWStrategyHN_2019-10-16T17-50-17/nodelist/segmentations_train_CT_0 sample id <SampleId ('HN1339',)>, index <SampleIndex (10)>\n",
      "[INFO]   noderun:0576 >> Creating job for node fastr:///networks/WORC_Example_STWStrategyHN/0.0/runs/WORC_Example_STWStrategyHN_2019-10-16T17-50-17/nodelist/segmentations_train_CT_0 sample id <SampleId ('HN1342',)>, index <SampleIndex (11)>\n",
      "[INFO]   noderun:0576 >> Creating job for node fastr:///networks/WORC_Example_STWStrategyHN/0.0/runs/WORC_Example_STWStrategyHN_2019-10-16T17-50-17/nodelist/segmentations_train_CT_0 sample id <SampleId ('HN1372',)>, index <SampleIndex (12)>\n",
      "[INFO]   noderun:0576 >> Creating job for node fastr:///networks/WORC_Example_STWStrategyHN/0.0/runs/WORC_Example_STWStrategyHN_2019-10-16T17-50-17/nodelist/segmentations_train_CT_0 sample id <SampleId ('HN1491',)>, index <SampleIndex (13)>\n",
      "[INFO]   noderun:0576 >> Creating job for node fastr:///networks/WORC_Example_STWStrategyHN/0.0/runs/WORC_Example_STWStrategyHN_2019-10-16T17-50-17/nodelist/segmentations_train_CT_0 sample id <SampleId ('HN1501',)>, index <SampleIndex (14)>\n",
      "[INFO]   noderun:0576 >> Creating job for node fastr:///networks/WORC_Example_STWStrategyHN/0.0/runs/WORC_Example_STWStrategyHN_2019-10-16T17-50-17/nodelist/segmentations_train_CT_0 sample id <SampleId ('HN1519',)>, index <SampleIndex (15)>\n",
      "[INFO]   noderun:0576 >> Creating job for node fastr:///networks/WORC_Example_STWStrategyHN/0.0/runs/WORC_Example_STWStrategyHN_2019-10-16T17-50-17/nodelist/segmentations_train_CT_0 sample id <SampleId ('HN1524',)>, index <SampleIndex (16)>\n",
      "[INFO]   noderun:0576 >> Creating job for node fastr:///networks/WORC_Example_STWStrategyHN/0.0/runs/WORC_Example_STWStrategyHN_2019-10-16T17-50-17/nodelist/segmentations_train_CT_0 sample id <SampleId ('HN1554',)>, index <SampleIndex (17)>\n",
      "[INFO]   noderun:0576 >> Creating job for node fastr:///networks/WORC_Example_STWStrategyHN/0.0/runs/WORC_Example_STWStrategyHN_2019-10-16T17-50-17/nodelist/segmentations_train_CT_0 sample id <SampleId ('HN1560',)>, index <SampleIndex (18)>\n",
      "[INFO]   noderun:0576 >> Creating job for node fastr:///networks/WORC_Example_STWStrategyHN/0.0/runs/WORC_Example_STWStrategyHN_2019-10-16T17-50-17/nodelist/segmentations_train_CT_0 sample id <SampleId ('HN1748',)>, index <SampleIndex (19)>\n",
      "[INFO]   noderun:0576 >> Creating job for node fastr:///networks/WORC_Example_STWStrategyHN/0.0/runs/WORC_Example_STWStrategyHN_2019-10-16T17-50-17/nodelist/config_classification_sink sample id <SampleId ('id_0',)>, index <SampleIndex (0)>\n",
      "[INFO]   noderun:0470 >> Generating jobs for node \"convert_im_train_CT_0\" with dimensions: [train: 20]\n",
      "[INFO]   noderun:0576 >> Creating job for node fastr:///networks/WORC_Example_STWStrategyHN/0.0/runs/WORC_Example_STWStrategyHN_2019-10-16T17-50-17/nodelist/convert_im_train_CT_0 sample id <SampleId ('HN1004',)>, index <SampleIndex (0)>\n",
      "[INFO]   noderun:0576 >> Creating job for node fastr:///networks/WORC_Example_STWStrategyHN/0.0/runs/WORC_Example_STWStrategyHN_2019-10-16T17-50-17/nodelist/convert_im_train_CT_0 sample id <SampleId ('HN1077',)>, index <SampleIndex (1)>\n",
      "[INFO]   noderun:0576 >> Creating job for node fastr:///networks/WORC_Example_STWStrategyHN/0.0/runs/WORC_Example_STWStrategyHN_2019-10-16T17-50-17/nodelist/convert_im_train_CT_0 sample id <SampleId ('HN1088',)>, index <SampleIndex (2)>\n",
      "[INFO]   noderun:0576 >> Creating job for node fastr:///networks/WORC_Example_STWStrategyHN/0.0/runs/WORC_Example_STWStrategyHN_2019-10-16T17-50-17/nodelist/convert_im_train_CT_0 sample id <SampleId ('HN1146',)>, index <SampleIndex (3)>\n",
      "[INFO]   noderun:0576 >> Creating job for node fastr:///networks/WORC_Example_STWStrategyHN/0.0/runs/WORC_Example_STWStrategyHN_2019-10-16T17-50-17/nodelist/convert_im_train_CT_0 sample id <SampleId ('HN1159',)>, index <SampleIndex (4)>\n",
      "[INFO]   noderun:0576 >> Creating job for node fastr:///networks/WORC_Example_STWStrategyHN/0.0/runs/WORC_Example_STWStrategyHN_2019-10-16T17-50-17/nodelist/convert_im_train_CT_0 sample id <SampleId ('HN1192',)>, index <SampleIndex (5)>\n",
      "[INFO]   noderun:0576 >> Creating job for node fastr:///networks/WORC_Example_STWStrategyHN/0.0/runs/WORC_Example_STWStrategyHN_2019-10-16T17-50-17/nodelist/convert_im_train_CT_0 sample id <SampleId ('HN1259',)>, index <SampleIndex (6)>\n",
      "[INFO]   noderun:0576 >> Creating job for node fastr:///networks/WORC_Example_STWStrategyHN/0.0/runs/WORC_Example_STWStrategyHN_2019-10-16T17-50-17/nodelist/convert_im_train_CT_0 sample id <SampleId ('HN1260',)>, index <SampleIndex (7)>\n",
      "[INFO]   noderun:0576 >> Creating job for node fastr:///networks/WORC_Example_STWStrategyHN/0.0/runs/WORC_Example_STWStrategyHN_2019-10-16T17-50-17/nodelist/convert_im_train_CT_0 sample id <SampleId ('HN1323',)>, index <SampleIndex (8)>\n",
      "[INFO]   noderun:0576 >> Creating job for node fastr:///networks/WORC_Example_STWStrategyHN/0.0/runs/WORC_Example_STWStrategyHN_2019-10-16T17-50-17/nodelist/convert_im_train_CT_0 sample id <SampleId ('HN1331',)>, index <SampleIndex (9)>\n",
      "[INFO]   noderun:0576 >> Creating job for node fastr:///networks/WORC_Example_STWStrategyHN/0.0/runs/WORC_Example_STWStrategyHN_2019-10-16T17-50-17/nodelist/convert_im_train_CT_0 sample id <SampleId ('HN1339',)>, index <SampleIndex (10)>\n",
      "[INFO]   noderun:0576 >> Creating job for node fastr:///networks/WORC_Example_STWStrategyHN/0.0/runs/WORC_Example_STWStrategyHN_2019-10-16T17-50-17/nodelist/convert_im_train_CT_0 sample id <SampleId ('HN1342',)>, index <SampleIndex (11)>\n",
      "[INFO]   noderun:0576 >> Creating job for node fastr:///networks/WORC_Example_STWStrategyHN/0.0/runs/WORC_Example_STWStrategyHN_2019-10-16T17-50-17/nodelist/convert_im_train_CT_0 sample id <SampleId ('HN1372',)>, index <SampleIndex (12)>\n",
      "[INFO]   noderun:0576 >> Creating job for node fastr:///networks/WORC_Example_STWStrategyHN/0.0/runs/WORC_Example_STWStrategyHN_2019-10-16T17-50-17/nodelist/convert_im_train_CT_0 sample id <SampleId ('HN1491',)>, index <SampleIndex (13)>\n",
      "[INFO]   noderun:0576 >> Creating job for node fastr:///networks/WORC_Example_STWStrategyHN/0.0/runs/WORC_Example_STWStrategyHN_2019-10-16T17-50-17/nodelist/convert_im_train_CT_0 sample id <SampleId ('HN1501',)>, index <SampleIndex (14)>\n",
      "[INFO]   noderun:0576 >> Creating job for node fastr:///networks/WORC_Example_STWStrategyHN/0.0/runs/WORC_Example_STWStrategyHN_2019-10-16T17-50-17/nodelist/convert_im_train_CT_0 sample id <SampleId ('HN1519',)>, index <SampleIndex (15)>\n",
      "[INFO]   noderun:0576 >> Creating job for node fastr:///networks/WORC_Example_STWStrategyHN/0.0/runs/WORC_Example_STWStrategyHN_2019-10-16T17-50-17/nodelist/convert_im_train_CT_0 sample id <SampleId ('HN1524',)>, index <SampleIndex (16)>\n",
      "[INFO]   noderun:0576 >> Creating job for node fastr:///networks/WORC_Example_STWStrategyHN/0.0/runs/WORC_Example_STWStrategyHN_2019-10-16T17-50-17/nodelist/convert_im_train_CT_0 sample id <SampleId ('HN1554',)>, index <SampleIndex (17)>\n",
      "[INFO]   noderun:0576 >> Creating job for node fastr:///networks/WORC_Example_STWStrategyHN/0.0/runs/WORC_Example_STWStrategyHN_2019-10-16T17-50-17/nodelist/convert_im_train_CT_0 sample id <SampleId ('HN1560',)>, index <SampleIndex (18)>\n",
      "[INFO]   noderun:0576 >> Creating job for node fastr:///networks/WORC_Example_STWStrategyHN/0.0/runs/WORC_Example_STWStrategyHN_2019-10-16T17-50-17/nodelist/convert_im_train_CT_0 sample id <SampleId ('HN1748',)>, index <SampleIndex (19)>\n",
      "[INFO]   noderun:0470 >> Generating jobs for node \"convert_seg_train_CT_0\" with dimensions: [train: 20]\n",
      "[INFO]   noderun:0576 >> Creating job for node fastr:///networks/WORC_Example_STWStrategyHN/0.0/runs/WORC_Example_STWStrategyHN_2019-10-16T17-50-17/nodelist/convert_seg_train_CT_0 sample id <SampleId ('HN1004',)>, index <SampleIndex (0)>\n",
      "[INFO]   noderun:0576 >> Creating job for node fastr:///networks/WORC_Example_STWStrategyHN/0.0/runs/WORC_Example_STWStrategyHN_2019-10-16T17-50-17/nodelist/convert_seg_train_CT_0 sample id <SampleId ('HN1077',)>, index <SampleIndex (1)>\n"
     ]
    },
    {
     "name": "stdout",
     "output_type": "stream",
     "text": [
      "[INFO]   noderun:0576 >> Creating job for node fastr:///networks/WORC_Example_STWStrategyHN/0.0/runs/WORC_Example_STWStrategyHN_2019-10-16T17-50-17/nodelist/convert_seg_train_CT_0 sample id <SampleId ('HN1088',)>, index <SampleIndex (2)>\n",
      "[INFO]   noderun:0576 >> Creating job for node fastr:///networks/WORC_Example_STWStrategyHN/0.0/runs/WORC_Example_STWStrategyHN_2019-10-16T17-50-17/nodelist/convert_seg_train_CT_0 sample id <SampleId ('HN1146',)>, index <SampleIndex (3)>\n",
      "[INFO]   noderun:0576 >> Creating job for node fastr:///networks/WORC_Example_STWStrategyHN/0.0/runs/WORC_Example_STWStrategyHN_2019-10-16T17-50-17/nodelist/convert_seg_train_CT_0 sample id <SampleId ('HN1159',)>, index <SampleIndex (4)>\n",
      "[INFO]   noderun:0576 >> Creating job for node fastr:///networks/WORC_Example_STWStrategyHN/0.0/runs/WORC_Example_STWStrategyHN_2019-10-16T17-50-17/nodelist/convert_seg_train_CT_0 sample id <SampleId ('HN1192',)>, index <SampleIndex (5)>\n",
      "[INFO]   noderun:0576 >> Creating job for node fastr:///networks/WORC_Example_STWStrategyHN/0.0/runs/WORC_Example_STWStrategyHN_2019-10-16T17-50-17/nodelist/convert_seg_train_CT_0 sample id <SampleId ('HN1259',)>, index <SampleIndex (6)>\n",
      "[INFO]   noderun:0576 >> Creating job for node fastr:///networks/WORC_Example_STWStrategyHN/0.0/runs/WORC_Example_STWStrategyHN_2019-10-16T17-50-17/nodelist/convert_seg_train_CT_0 sample id <SampleId ('HN1260',)>, index <SampleIndex (7)>\n",
      "[INFO]   noderun:0576 >> Creating job for node fastr:///networks/WORC_Example_STWStrategyHN/0.0/runs/WORC_Example_STWStrategyHN_2019-10-16T17-50-17/nodelist/convert_seg_train_CT_0 sample id <SampleId ('HN1323',)>, index <SampleIndex (8)>\n",
      "[INFO]   noderun:0576 >> Creating job for node fastr:///networks/WORC_Example_STWStrategyHN/0.0/runs/WORC_Example_STWStrategyHN_2019-10-16T17-50-17/nodelist/convert_seg_train_CT_0 sample id <SampleId ('HN1331',)>, index <SampleIndex (9)>\n",
      "[INFO]   noderun:0576 >> Creating job for node fastr:///networks/WORC_Example_STWStrategyHN/0.0/runs/WORC_Example_STWStrategyHN_2019-10-16T17-50-17/nodelist/convert_seg_train_CT_0 sample id <SampleId ('HN1339',)>, index <SampleIndex (10)>\n",
      "[INFO]   noderun:0576 >> Creating job for node fastr:///networks/WORC_Example_STWStrategyHN/0.0/runs/WORC_Example_STWStrategyHN_2019-10-16T17-50-17/nodelist/convert_seg_train_CT_0 sample id <SampleId ('HN1342',)>, index <SampleIndex (11)>\n",
      "[INFO]   noderun:0576 >> Creating job for node fastr:///networks/WORC_Example_STWStrategyHN/0.0/runs/WORC_Example_STWStrategyHN_2019-10-16T17-50-17/nodelist/convert_seg_train_CT_0 sample id <SampleId ('HN1372',)>, index <SampleIndex (12)>\n",
      "[INFO]   noderun:0576 >> Creating job for node fastr:///networks/WORC_Example_STWStrategyHN/0.0/runs/WORC_Example_STWStrategyHN_2019-10-16T17-50-17/nodelist/convert_seg_train_CT_0 sample id <SampleId ('HN1491',)>, index <SampleIndex (13)>\n",
      "[INFO]   noderun:0576 >> Creating job for node fastr:///networks/WORC_Example_STWStrategyHN/0.0/runs/WORC_Example_STWStrategyHN_2019-10-16T17-50-17/nodelist/convert_seg_train_CT_0 sample id <SampleId ('HN1501',)>, index <SampleIndex (14)>\n",
      "[INFO]   noderun:0576 >> Creating job for node fastr:///networks/WORC_Example_STWStrategyHN/0.0/runs/WORC_Example_STWStrategyHN_2019-10-16T17-50-17/nodelist/convert_seg_train_CT_0 sample id <SampleId ('HN1519',)>, index <SampleIndex (15)>\n",
      "[INFO]   noderun:0576 >> Creating job for node fastr:///networks/WORC_Example_STWStrategyHN/0.0/runs/WORC_Example_STWStrategyHN_2019-10-16T17-50-17/nodelist/convert_seg_train_CT_0 sample id <SampleId ('HN1524',)>, index <SampleIndex (16)>\n",
      "[INFO]   noderun:0576 >> Creating job for node fastr:///networks/WORC_Example_STWStrategyHN/0.0/runs/WORC_Example_STWStrategyHN_2019-10-16T17-50-17/nodelist/convert_seg_train_CT_0 sample id <SampleId ('HN1554',)>, index <SampleIndex (17)>\n",
      "[INFO]   noderun:0576 >> Creating job for node fastr:///networks/WORC_Example_STWStrategyHN/0.0/runs/WORC_Example_STWStrategyHN_2019-10-16T17-50-17/nodelist/convert_seg_train_CT_0 sample id <SampleId ('HN1560',)>, index <SampleIndex (18)>\n",
      "[INFO]   noderun:0576 >> Creating job for node fastr:///networks/WORC_Example_STWStrategyHN/0.0/runs/WORC_Example_STWStrategyHN_2019-10-16T17-50-17/nodelist/convert_seg_train_CT_0 sample id <SampleId ('HN1748',)>, index <SampleIndex (19)>\n",
      "[INFO]   noderun:0470 >> Generating jobs for node \"preprocessing_train_CT_0\" with dimensions: [train: 20]\n",
      "[INFO]   noderun:0576 >> Creating job for node fastr:///networks/WORC_Example_STWStrategyHN/0.0/runs/WORC_Example_STWStrategyHN_2019-10-16T17-50-17/nodelist/preprocessing_train_CT_0 sample id <SampleId ('HN1004',)>, index <SampleIndex (0)>\n",
      "[INFO]   noderun:0576 >> Creating job for node fastr:///networks/WORC_Example_STWStrategyHN/0.0/runs/WORC_Example_STWStrategyHN_2019-10-16T17-50-17/nodelist/preprocessing_train_CT_0 sample id <SampleId ('HN1077',)>, index <SampleIndex (1)>\n",
      "[INFO]   noderun:0576 >> Creating job for node fastr:///networks/WORC_Example_STWStrategyHN/0.0/runs/WORC_Example_STWStrategyHN_2019-10-16T17-50-17/nodelist/preprocessing_train_CT_0 sample id <SampleId ('HN1088',)>, index <SampleIndex (2)>\n",
      "[INFO]   noderun:0576 >> Creating job for node fastr:///networks/WORC_Example_STWStrategyHN/0.0/runs/WORC_Example_STWStrategyHN_2019-10-16T17-50-17/nodelist/preprocessing_train_CT_0 sample id <SampleId ('HN1146',)>, index <SampleIndex (3)>\n",
      "[INFO]   noderun:0576 >> Creating job for node fastr:///networks/WORC_Example_STWStrategyHN/0.0/runs/WORC_Example_STWStrategyHN_2019-10-16T17-50-17/nodelist/preprocessing_train_CT_0 sample id <SampleId ('HN1159',)>, index <SampleIndex (4)>\n",
      "[INFO]   noderun:0576 >> Creating job for node fastr:///networks/WORC_Example_STWStrategyHN/0.0/runs/WORC_Example_STWStrategyHN_2019-10-16T17-50-17/nodelist/preprocessing_train_CT_0 sample id <SampleId ('HN1192',)>, index <SampleIndex (5)>\n",
      "[INFO]   noderun:0576 >> Creating job for node fastr:///networks/WORC_Example_STWStrategyHN/0.0/runs/WORC_Example_STWStrategyHN_2019-10-16T17-50-17/nodelist/preprocessing_train_CT_0 sample id <SampleId ('HN1259',)>, index <SampleIndex (6)>\n",
      "[INFO]   noderun:0576 >> Creating job for node fastr:///networks/WORC_Example_STWStrategyHN/0.0/runs/WORC_Example_STWStrategyHN_2019-10-16T17-50-17/nodelist/preprocessing_train_CT_0 sample id <SampleId ('HN1260',)>, index <SampleIndex (7)>\n",
      "[INFO]   noderun:0576 >> Creating job for node fastr:///networks/WORC_Example_STWStrategyHN/0.0/runs/WORC_Example_STWStrategyHN_2019-10-16T17-50-17/nodelist/preprocessing_train_CT_0 sample id <SampleId ('HN1323',)>, index <SampleIndex (8)>\n",
      "[INFO]   noderun:0576 >> Creating job for node fastr:///networks/WORC_Example_STWStrategyHN/0.0/runs/WORC_Example_STWStrategyHN_2019-10-16T17-50-17/nodelist/preprocessing_train_CT_0 sample id <SampleId ('HN1331',)>, index <SampleIndex (9)>\n",
      "[INFO]   noderun:0576 >> Creating job for node fastr:///networks/WORC_Example_STWStrategyHN/0.0/runs/WORC_Example_STWStrategyHN_2019-10-16T17-50-17/nodelist/preprocessing_train_CT_0 sample id <SampleId ('HN1339',)>, index <SampleIndex (10)>\n",
      "[INFO]   noderun:0576 >> Creating job for node fastr:///networks/WORC_Example_STWStrategyHN/0.0/runs/WORC_Example_STWStrategyHN_2019-10-16T17-50-17/nodelist/preprocessing_train_CT_0 sample id <SampleId ('HN1342',)>, index <SampleIndex (11)>\n",
      "[INFO]   noderun:0576 >> Creating job for node fastr:///networks/WORC_Example_STWStrategyHN/0.0/runs/WORC_Example_STWStrategyHN_2019-10-16T17-50-17/nodelist/preprocessing_train_CT_0 sample id <SampleId ('HN1372',)>, index <SampleIndex (12)>\n",
      "[INFO]   noderun:0576 >> Creating job for node fastr:///networks/WORC_Example_STWStrategyHN/0.0/runs/WORC_Example_STWStrategyHN_2019-10-16T17-50-17/nodelist/preprocessing_train_CT_0 sample id <SampleId ('HN1491',)>, index <SampleIndex (13)>\n",
      "[INFO]   noderun:0576 >> Creating job for node fastr:///networks/WORC_Example_STWStrategyHN/0.0/runs/WORC_Example_STWStrategyHN_2019-10-16T17-50-17/nodelist/preprocessing_train_CT_0 sample id <SampleId ('HN1501',)>, index <SampleIndex (14)>\n",
      "[INFO]   noderun:0576 >> Creating job for node fastr:///networks/WORC_Example_STWStrategyHN/0.0/runs/WORC_Example_STWStrategyHN_2019-10-16T17-50-17/nodelist/preprocessing_train_CT_0 sample id <SampleId ('HN1519',)>, index <SampleIndex (15)>\n"
     ]
    },
    {
     "name": "stdout",
     "output_type": "stream",
     "text": [
      "[INFO]   noderun:0576 >> Creating job for node fastr:///networks/WORC_Example_STWStrategyHN/0.0/runs/WORC_Example_STWStrategyHN_2019-10-16T17-50-17/nodelist/preprocessing_train_CT_0 sample id <SampleId ('HN1524',)>, index <SampleIndex (16)>\n",
      "[INFO]   noderun:0576 >> Creating job for node fastr:///networks/WORC_Example_STWStrategyHN/0.0/runs/WORC_Example_STWStrategyHN_2019-10-16T17-50-17/nodelist/preprocessing_train_CT_0 sample id <SampleId ('HN1554',)>, index <SampleIndex (17)>\n",
      "[INFO]   noderun:0576 >> Creating job for node fastr:///networks/WORC_Example_STWStrategyHN/0.0/runs/WORC_Example_STWStrategyHN_2019-10-16T17-50-17/nodelist/preprocessing_train_CT_0 sample id <SampleId ('HN1560',)>, index <SampleIndex (18)>\n",
      "[INFO]   noderun:0576 >> Creating job for node fastr:///networks/WORC_Example_STWStrategyHN/0.0/runs/WORC_Example_STWStrategyHN_2019-10-16T17-50-17/nodelist/preprocessing_train_CT_0 sample id <SampleId ('HN1748',)>, index <SampleIndex (19)>\n",
      "[INFO]   noderun:0470 >> Generating jobs for node \"calcfeatures_train_predict_CalcFeatures_1_0_CT_0\" with dimensions: [train: 20]\n",
      "[INFO]   noderun:0576 >> Creating job for node fastr:///networks/WORC_Example_STWStrategyHN/0.0/runs/WORC_Example_STWStrategyHN_2019-10-16T17-50-17/nodelist/calcfeatures_train_predict_CalcFeatures_1_0_CT_0 sample id <SampleId ('HN1004',)>, index <SampleIndex (0)>\n",
      "[INFO]   noderun:0576 >> Creating job for node fastr:///networks/WORC_Example_STWStrategyHN/0.0/runs/WORC_Example_STWStrategyHN_2019-10-16T17-50-17/nodelist/calcfeatures_train_predict_CalcFeatures_1_0_CT_0 sample id <SampleId ('HN1077',)>, index <SampleIndex (1)>\n",
      "[INFO]   noderun:0576 >> Creating job for node fastr:///networks/WORC_Example_STWStrategyHN/0.0/runs/WORC_Example_STWStrategyHN_2019-10-16T17-50-17/nodelist/calcfeatures_train_predict_CalcFeatures_1_0_CT_0 sample id <SampleId ('HN1088',)>, index <SampleIndex (2)>\n",
      "[INFO]   noderun:0576 >> Creating job for node fastr:///networks/WORC_Example_STWStrategyHN/0.0/runs/WORC_Example_STWStrategyHN_2019-10-16T17-50-17/nodelist/calcfeatures_train_predict_CalcFeatures_1_0_CT_0 sample id <SampleId ('HN1146',)>, index <SampleIndex (3)>\n",
      "[INFO]   noderun:0576 >> Creating job for node fastr:///networks/WORC_Example_STWStrategyHN/0.0/runs/WORC_Example_STWStrategyHN_2019-10-16T17-50-17/nodelist/calcfeatures_train_predict_CalcFeatures_1_0_CT_0 sample id <SampleId ('HN1159',)>, index <SampleIndex (4)>\n",
      "[INFO]   noderun:0576 >> Creating job for node fastr:///networks/WORC_Example_STWStrategyHN/0.0/runs/WORC_Example_STWStrategyHN_2019-10-16T17-50-17/nodelist/calcfeatures_train_predict_CalcFeatures_1_0_CT_0 sample id <SampleId ('HN1192',)>, index <SampleIndex (5)>\n",
      "[INFO]   noderun:0576 >> Creating job for node fastr:///networks/WORC_Example_STWStrategyHN/0.0/runs/WORC_Example_STWStrategyHN_2019-10-16T17-50-17/nodelist/calcfeatures_train_predict_CalcFeatures_1_0_CT_0 sample id <SampleId ('HN1259',)>, index <SampleIndex (6)>\n",
      "[INFO]   noderun:0576 >> Creating job for node fastr:///networks/WORC_Example_STWStrategyHN/0.0/runs/WORC_Example_STWStrategyHN_2019-10-16T17-50-17/nodelist/calcfeatures_train_predict_CalcFeatures_1_0_CT_0 sample id <SampleId ('HN1260',)>, index <SampleIndex (7)>\n",
      "[INFO]   noderun:0576 >> Creating job for node fastr:///networks/WORC_Example_STWStrategyHN/0.0/runs/WORC_Example_STWStrategyHN_2019-10-16T17-50-17/nodelist/calcfeatures_train_predict_CalcFeatures_1_0_CT_0 sample id <SampleId ('HN1323',)>, index <SampleIndex (8)>\n",
      "[INFO]   noderun:0576 >> Creating job for node fastr:///networks/WORC_Example_STWStrategyHN/0.0/runs/WORC_Example_STWStrategyHN_2019-10-16T17-50-17/nodelist/calcfeatures_train_predict_CalcFeatures_1_0_CT_0 sample id <SampleId ('HN1331',)>, index <SampleIndex (9)>\n",
      "[INFO]   noderun:0576 >> Creating job for node fastr:///networks/WORC_Example_STWStrategyHN/0.0/runs/WORC_Example_STWStrategyHN_2019-10-16T17-50-17/nodelist/calcfeatures_train_predict_CalcFeatures_1_0_CT_0 sample id <SampleId ('HN1339',)>, index <SampleIndex (10)>\n",
      "[INFO]   noderun:0576 >> Creating job for node fastr:///networks/WORC_Example_STWStrategyHN/0.0/runs/WORC_Example_STWStrategyHN_2019-10-16T17-50-17/nodelist/calcfeatures_train_predict_CalcFeatures_1_0_CT_0 sample id <SampleId ('HN1342',)>, index <SampleIndex (11)>\n",
      "[INFO]   noderun:0576 >> Creating job for node fastr:///networks/WORC_Example_STWStrategyHN/0.0/runs/WORC_Example_STWStrategyHN_2019-10-16T17-50-17/nodelist/calcfeatures_train_predict_CalcFeatures_1_0_CT_0 sample id <SampleId ('HN1372',)>, index <SampleIndex (12)>\n",
      "[INFO]   noderun:0576 >> Creating job for node fastr:///networks/WORC_Example_STWStrategyHN/0.0/runs/WORC_Example_STWStrategyHN_2019-10-16T17-50-17/nodelist/calcfeatures_train_predict_CalcFeatures_1_0_CT_0 sample id <SampleId ('HN1491',)>, index <SampleIndex (13)>\n",
      "[INFO]   noderun:0576 >> Creating job for node fastr:///networks/WORC_Example_STWStrategyHN/0.0/runs/WORC_Example_STWStrategyHN_2019-10-16T17-50-17/nodelist/calcfeatures_train_predict_CalcFeatures_1_0_CT_0 sample id <SampleId ('HN1501',)>, index <SampleIndex (14)>\n",
      "[INFO]   noderun:0576 >> Creating job for node fastr:///networks/WORC_Example_STWStrategyHN/0.0/runs/WORC_Example_STWStrategyHN_2019-10-16T17-50-17/nodelist/calcfeatures_train_predict_CalcFeatures_1_0_CT_0 sample id <SampleId ('HN1519',)>, index <SampleIndex (15)>\n",
      "[INFO]   noderun:0576 >> Creating job for node fastr:///networks/WORC_Example_STWStrategyHN/0.0/runs/WORC_Example_STWStrategyHN_2019-10-16T17-50-17/nodelist/calcfeatures_train_predict_CalcFeatures_1_0_CT_0 sample id <SampleId ('HN1524',)>, index <SampleIndex (16)>\n",
      "[INFO]   noderun:0576 >> Creating job for node fastr:///networks/WORC_Example_STWStrategyHN/0.0/runs/WORC_Example_STWStrategyHN_2019-10-16T17-50-17/nodelist/calcfeatures_train_predict_CalcFeatures_1_0_CT_0 sample id <SampleId ('HN1554',)>, index <SampleIndex (17)>\n",
      "[INFO]   noderun:0576 >> Creating job for node fastr:///networks/WORC_Example_STWStrategyHN/0.0/runs/WORC_Example_STWStrategyHN_2019-10-16T17-50-17/nodelist/calcfeatures_train_predict_CalcFeatures_1_0_CT_0 sample id <SampleId ('HN1560',)>, index <SampleIndex (18)>\n",
      "[INFO]   noderun:0576 >> Creating job for node fastr:///networks/WORC_Example_STWStrategyHN/0.0/runs/WORC_Example_STWStrategyHN_2019-10-16T17-50-17/nodelist/calcfeatures_train_predict_CalcFeatures_1_0_CT_0 sample id <SampleId ('HN1748',)>, index <SampleIndex (19)>\n",
      "[INFO]   noderun:0470 >> Generating jobs for node \"classify\" with dimensions: [classify: 1]\n",
      "[INFO]   noderun:0576 >> Creating job for node fastr:///networks/WORC_Example_STWStrategyHN/0.0/runs/WORC_Example_STWStrategyHN_2019-10-16T17-50-17/nodelist/classify sample id <SampleId ('all',)>, index <SampleIndex (0)>\n",
      "[INFO]   noderun:0576 >> Creating job for node fastr:///networks/WORC_Example_STWStrategyHN/0.0/runs/WORC_Example_STWStrategyHN_2019-10-16T17-50-17/nodelist/features_train_CT_0 sample id <SampleId ('HN1004',)>, index <SampleIndex (0)>\n",
      "[INFO]   noderun:0576 >> Creating job for node fastr:///networks/WORC_Example_STWStrategyHN/0.0/runs/WORC_Example_STWStrategyHN_2019-10-16T17-50-17/nodelist/features_train_CT_0 sample id <SampleId ('HN1077',)>, index <SampleIndex (1)>\n",
      "[INFO]   noderun:0576 >> Creating job for node fastr:///networks/WORC_Example_STWStrategyHN/0.0/runs/WORC_Example_STWStrategyHN_2019-10-16T17-50-17/nodelist/features_train_CT_0 sample id <SampleId ('HN1088',)>, index <SampleIndex (2)>\n",
      "[INFO]   noderun:0576 >> Creating job for node fastr:///networks/WORC_Example_STWStrategyHN/0.0/runs/WORC_Example_STWStrategyHN_2019-10-16T17-50-17/nodelist/features_train_CT_0 sample id <SampleId ('HN1146',)>, index <SampleIndex (3)>\n",
      "[INFO]   noderun:0576 >> Creating job for node fastr:///networks/WORC_Example_STWStrategyHN/0.0/runs/WORC_Example_STWStrategyHN_2019-10-16T17-50-17/nodelist/features_train_CT_0 sample id <SampleId ('HN1159',)>, index <SampleIndex (4)>\n",
      "[INFO]   noderun:0576 >> Creating job for node fastr:///networks/WORC_Example_STWStrategyHN/0.0/runs/WORC_Example_STWStrategyHN_2019-10-16T17-50-17/nodelist/features_train_CT_0 sample id <SampleId ('HN1192',)>, index <SampleIndex (5)>\n",
      "[INFO]   noderun:0576 >> Creating job for node fastr:///networks/WORC_Example_STWStrategyHN/0.0/runs/WORC_Example_STWStrategyHN_2019-10-16T17-50-17/nodelist/features_train_CT_0 sample id <SampleId ('HN1259',)>, index <SampleIndex (6)>\n"
     ]
    },
    {
     "name": "stdout",
     "output_type": "stream",
     "text": [
      "[INFO]   noderun:0576 >> Creating job for node fastr:///networks/WORC_Example_STWStrategyHN/0.0/runs/WORC_Example_STWStrategyHN_2019-10-16T17-50-17/nodelist/features_train_CT_0 sample id <SampleId ('HN1260',)>, index <SampleIndex (7)>\n",
      "[INFO]   noderun:0576 >> Creating job for node fastr:///networks/WORC_Example_STWStrategyHN/0.0/runs/WORC_Example_STWStrategyHN_2019-10-16T17-50-17/nodelist/features_train_CT_0 sample id <SampleId ('HN1323',)>, index <SampleIndex (8)>\n",
      "[INFO]   noderun:0576 >> Creating job for node fastr:///networks/WORC_Example_STWStrategyHN/0.0/runs/WORC_Example_STWStrategyHN_2019-10-16T17-50-17/nodelist/features_train_CT_0 sample id <SampleId ('HN1331',)>, index <SampleIndex (9)>\n",
      "[INFO]   noderun:0576 >> Creating job for node fastr:///networks/WORC_Example_STWStrategyHN/0.0/runs/WORC_Example_STWStrategyHN_2019-10-16T17-50-17/nodelist/features_train_CT_0 sample id <SampleId ('HN1339',)>, index <SampleIndex (10)>\n",
      "[INFO]   noderun:0576 >> Creating job for node fastr:///networks/WORC_Example_STWStrategyHN/0.0/runs/WORC_Example_STWStrategyHN_2019-10-16T17-50-17/nodelist/features_train_CT_0 sample id <SampleId ('HN1342',)>, index <SampleIndex (11)>\n",
      "[INFO]   noderun:0576 >> Creating job for node fastr:///networks/WORC_Example_STWStrategyHN/0.0/runs/WORC_Example_STWStrategyHN_2019-10-16T17-50-17/nodelist/features_train_CT_0 sample id <SampleId ('HN1372',)>, index <SampleIndex (12)>\n",
      "[INFO]   noderun:0576 >> Creating job for node fastr:///networks/WORC_Example_STWStrategyHN/0.0/runs/WORC_Example_STWStrategyHN_2019-10-16T17-50-17/nodelist/features_train_CT_0 sample id <SampleId ('HN1491',)>, index <SampleIndex (13)>\n",
      "[INFO]   noderun:0576 >> Creating job for node fastr:///networks/WORC_Example_STWStrategyHN/0.0/runs/WORC_Example_STWStrategyHN_2019-10-16T17-50-17/nodelist/features_train_CT_0 sample id <SampleId ('HN1501',)>, index <SampleIndex (14)>\n",
      "[INFO]   noderun:0576 >> Creating job for node fastr:///networks/WORC_Example_STWStrategyHN/0.0/runs/WORC_Example_STWStrategyHN_2019-10-16T17-50-17/nodelist/features_train_CT_0 sample id <SampleId ('HN1519',)>, index <SampleIndex (15)>\n",
      "[INFO]   noderun:0576 >> Creating job for node fastr:///networks/WORC_Example_STWStrategyHN/0.0/runs/WORC_Example_STWStrategyHN_2019-10-16T17-50-17/nodelist/features_train_CT_0 sample id <SampleId ('HN1524',)>, index <SampleIndex (16)>\n",
      "[INFO]   noderun:0576 >> Creating job for node fastr:///networks/WORC_Example_STWStrategyHN/0.0/runs/WORC_Example_STWStrategyHN_2019-10-16T17-50-17/nodelist/features_train_CT_0 sample id <SampleId ('HN1554',)>, index <SampleIndex (17)>\n",
      "[INFO]   noderun:0576 >> Creating job for node fastr:///networks/WORC_Example_STWStrategyHN/0.0/runs/WORC_Example_STWStrategyHN_2019-10-16T17-50-17/nodelist/features_train_CT_0 sample id <SampleId ('HN1560',)>, index <SampleIndex (18)>\n",
      "[INFO]   noderun:0576 >> Creating job for node fastr:///networks/WORC_Example_STWStrategyHN/0.0/runs/WORC_Example_STWStrategyHN_2019-10-16T17-50-17/nodelist/features_train_CT_0 sample id <SampleId ('HN1748',)>, index <SampleIndex (19)>\n",
      "[INFO]   noderun:0576 >> Creating job for node fastr:///networks/WORC_Example_STWStrategyHN/0.0/runs/WORC_Example_STWStrategyHN_2019-10-16T17-50-17/nodelist/classification sample id <SampleId ('all',)>, index <SampleIndex (0)>\n",
      "[INFO]   noderun:0576 >> Creating job for node fastr:///networks/WORC_Example_STWStrategyHN/0.0/runs/WORC_Example_STWStrategyHN_2019-10-16T17-50-17/nodelist/performance sample id <SampleId ('all',)>, index <SampleIndex (0)>\n",
      "[INFO] networkrun:0620 >> Waiting for execution to finish...\n",
      "[INFO] networkrun:0765 >> Finished job WORC_Example_STWStrategyHN___config_classification_sink___id_0___0 with status JobState.finished\n",
      "[INFO] networkrun:0765 >> Finished job WORC_Example_STWStrategyHN___convert_im_train_CT_0___HN1004 with status JobState.finished\n",
      "[INFO] networkrun:0765 >> Finished job WORC_Example_STWStrategyHN___convert_im_train_CT_0___HN1077 with status JobState.finished\n",
      "[INFO] networkrun:0765 >> Finished job WORC_Example_STWStrategyHN___convert_im_train_CT_0___HN1088 with status JobState.finished\n",
      "[INFO] networkrun:0765 >> Finished job WORC_Example_STWStrategyHN___convert_im_train_CT_0___HN1146 with status JobState.finished\n",
      "[INFO] networkrun:0765 >> Finished job WORC_Example_STWStrategyHN___convert_im_train_CT_0___HN1159 with status JobState.finished\n",
      "[INFO] networkrun:0765 >> Finished job WORC_Example_STWStrategyHN___convert_im_train_CT_0___HN1192 with status JobState.finished\n",
      "[INFO] networkrun:0765 >> Finished job WORC_Example_STWStrategyHN___convert_im_train_CT_0___HN1259 with status JobState.finished\n",
      "[INFO] networkrun:0765 >> Finished job WORC_Example_STWStrategyHN___convert_im_train_CT_0___HN1260 with status JobState.finished\n",
      "[INFO] networkrun:0765 >> Finished job WORC_Example_STWStrategyHN___convert_im_train_CT_0___HN1323 with status JobState.finished\n",
      "[INFO] networkrun:0765 >> Finished job WORC_Example_STWStrategyHN___convert_im_train_CT_0___HN1331 with status JobState.finished\n",
      "[INFO] networkrun:0765 >> Finished job WORC_Example_STWStrategyHN___convert_im_train_CT_0___HN1339 with status JobState.finished\n",
      "[INFO] networkrun:0708 >> Recieved a Signals.SIGINT signal, aborting execution of NetworkRun WORC_Example_STWStrategyHN_2019-10-16T17-50-17\n",
      "[INFO] networkrun:0765 >> Finished job WORC_Example_STWStrategyHN___performance___all___0 with status JobState.cancelled\n",
      "[INFO] networkrun:0765 >> Finished job WORC_Example_STWStrategyHN___classification___all___0 with status JobState.cancelled\n",
      "[INFO] networkrun:0765 >> Finished job WORC_Example_STWStrategyHN___features_train_CT_0___HN1748___0 with status JobState.cancelled\n",
      "[INFO] networkrun:0765 >> Finished job WORC_Example_STWStrategyHN___features_train_CT_0___HN1560___0 with status JobState.cancelled\n",
      "[INFO] networkrun:0765 >> Finished job WORC_Example_STWStrategyHN___convert_im_train_CT_0___HN1342 with status JobState.failed\n",
      "[INFO] networkrun:0765 >> Finished job WORC_Example_STWStrategyHN___features_train_CT_0___HN1554___0 with status JobState.cancelled\n",
      "[INFO] networkrun:0765 >> Finished job WORC_Example_STWStrategyHN___preprocessing_train_CT_0___HN1342 with status JobState.cancelled\n",
      "[INFO] networkrun:0765 >> Finished job WORC_Example_STWStrategyHN___calcfeatures_train_predict_CalcFeatures_1_0_CT_0___HN1342 with status JobState.cancelled\n",
      "[INFO] networkrun:0765 >> Finished job WORC_Example_STWStrategyHN___features_train_CT_0___HN1524___0 with status JobState.cancelled\n",
      "[INFO] networkrun:0765 >> Finished job WORC_Example_STWStrategyHN___classify___all with status JobState.cancelled\n",
      "[INFO] networkrun:0765 >> Finished job WORC_Example_STWStrategyHN___features_train_CT_0___HN1342___0 with status JobState.cancelled\n",
      "[INFO] executionplugin:0518 >> Callback processing thread for LinearExecution ended!\n",
      "[INFO] networkrun:0765 >> Finished job WORC_Example_STWStrategyHN___features_train_CT_0___HN1519___0 with status JobState.cancelled\n",
      "[INFO] networkrun:0765 >> Finished job WORC_Example_STWStrategyHN___features_train_CT_0___HN1501___0 with status JobState.cancelled\n",
      "[INFO] networkrun:0765 >> Finished job WORC_Example_STWStrategyHN___features_train_CT_0___HN1491___0 with status JobState.cancelled\n",
      "[INFO] networkrun:0765 >> Finished job WORC_Example_STWStrategyHN___features_train_CT_0___HN1372___0 with status JobState.cancelled\n",
      "[INFO] networkrun:0765 >> Finished job WORC_Example_STWStrategyHN___features_train_CT_0___HN1339___0 with status JobState.cancelled\n",
      "[INFO] networkrun:0765 >> Finished job WORC_Example_STWStrategyHN___features_train_CT_0___HN1331___0 with status JobState.cancelled\n",
      "[INFO] networkrun:0765 >> Finished job WORC_Example_STWStrategyHN___features_train_CT_0___HN1323___0 with status JobState.cancelled\n",
      "[INFO] networkrun:0765 >> Finished job WORC_Example_STWStrategyHN___features_train_CT_0___HN1260___0 with status JobState.cancelled\n",
      "[INFO] networkrun:0765 >> Finished job WORC_Example_STWStrategyHN___features_train_CT_0___HN1259___0 with status JobState.cancelled\n",
      "[INFO] networkrun:0765 >> Finished job WORC_Example_STWStrategyHN___features_train_CT_0___HN1192___0 with status JobState.cancelled\n",
      "[INFO] networkrun:0765 >> Finished job WORC_Example_STWStrategyHN___features_train_CT_0___HN1159___0 with status JobState.cancelled\n"
     ]
    },
    {
     "name": "stdout",
     "output_type": "stream",
     "text": [
      "[INFO] networkrun:0765 >> Finished job WORC_Example_STWStrategyHN___features_train_CT_0___HN1146___0 with status JobState.cancelled\n",
      "[INFO] networkrun:0765 >> Finished job WORC_Example_STWStrategyHN___features_train_CT_0___HN1088___0 with status JobState.cancelled\n",
      "[INFO] networkrun:0765 >> Finished job WORC_Example_STWStrategyHN___features_train_CT_0___HN1077___0 with status JobState.cancelled\n",
      "[INFO] networkrun:0765 >> Finished job WORC_Example_STWStrategyHN___features_train_CT_0___HN1004___0 with status JobState.cancelled\n",
      "[INFO] networkrun:0765 >> Finished job WORC_Example_STWStrategyHN___calcfeatures_train_predict_CalcFeatures_1_0_CT_0___HN1748 with status JobState.cancelled\n",
      "[ERROR]   noderun:0508 >> Could not find required data for fastr:///networks/WORC_Example_STWStrategyHN/0.0/runs/WORC_Example_STWStrategyHN_2019-10-16T17-50-17/nodelist/calcfeatures_train_predict_CalcFeatures_1_0_CT_0/outputs/features in {}!\n",
      "[INFO] networkrun:0765 >> Finished job WORC_Example_STWStrategyHN___calcfeatures_train_predict_CalcFeatures_1_0_CT_0___HN1560 with status JobState.cancelled\n",
      "[ERROR]   noderun:0508 >> Could not find required data for fastr:///networks/WORC_Example_STWStrategyHN/0.0/runs/WORC_Example_STWStrategyHN_2019-10-16T17-50-17/nodelist/calcfeatures_train_predict_CalcFeatures_1_0_CT_0/outputs/features in {}!\n",
      "[INFO] networkrun:0765 >> Finished job WORC_Example_STWStrategyHN___calcfeatures_train_predict_CalcFeatures_1_0_CT_0___HN1554 with status JobState.cancelled\n",
      "[ERROR]   noderun:0508 >> Could not find required data for fastr:///networks/WORC_Example_STWStrategyHN/0.0/runs/WORC_Example_STWStrategyHN_2019-10-16T17-50-17/nodelist/calcfeatures_train_predict_CalcFeatures_1_0_CT_0/outputs/features in {}!\n",
      "[INFO] networkrun:0765 >> Finished job WORC_Example_STWStrategyHN___calcfeatures_train_predict_CalcFeatures_1_0_CT_0___HN1524 with status JobState.cancelled\n",
      "[ERROR]   noderun:0508 >> Could not find required data for fastr:///networks/WORC_Example_STWStrategyHN/0.0/runs/WORC_Example_STWStrategyHN_2019-10-16T17-50-17/nodelist/calcfeatures_train_predict_CalcFeatures_1_0_CT_0/outputs/features in {}!\n",
      "[INFO] networkrun:0765 >> Finished job WORC_Example_STWStrategyHN___calcfeatures_train_predict_CalcFeatures_1_0_CT_0___HN1519 with status JobState.cancelled\n",
      "[ERROR]   noderun:0508 >> Could not find required data for fastr:///networks/WORC_Example_STWStrategyHN/0.0/runs/WORC_Example_STWStrategyHN_2019-10-16T17-50-17/nodelist/calcfeatures_train_predict_CalcFeatures_1_0_CT_0/outputs/features in {}!\n",
      "[INFO] networkrun:0765 >> Finished job WORC_Example_STWStrategyHN___calcfeatures_train_predict_CalcFeatures_1_0_CT_0___HN1501 with status JobState.cancelled\n",
      "[ERROR]   noderun:0508 >> Could not find required data for fastr:///networks/WORC_Example_STWStrategyHN/0.0/runs/WORC_Example_STWStrategyHN_2019-10-16T17-50-17/nodelist/calcfeatures_train_predict_CalcFeatures_1_0_CT_0/outputs/features in {}!\n",
      "[INFO] networkrun:0765 >> Finished job WORC_Example_STWStrategyHN___calcfeatures_train_predict_CalcFeatures_1_0_CT_0___HN1491 with status JobState.cancelled\n",
      "[ERROR]   noderun:0508 >> Could not find required data for fastr:///networks/WORC_Example_STWStrategyHN/0.0/runs/WORC_Example_STWStrategyHN_2019-10-16T17-50-17/nodelist/calcfeatures_train_predict_CalcFeatures_1_0_CT_0/outputs/features in {}!\n",
      "[INFO] networkrun:0765 >> Finished job WORC_Example_STWStrategyHN___calcfeatures_train_predict_CalcFeatures_1_0_CT_0___HN1372 with status JobState.cancelled\n",
      "[ERROR]   noderun:0508 >> Could not find required data for fastr:///networks/WORC_Example_STWStrategyHN/0.0/runs/WORC_Example_STWStrategyHN_2019-10-16T17-50-17/nodelist/calcfeatures_train_predict_CalcFeatures_1_0_CT_0/outputs/features in {}!\n",
      "[INFO] networkrun:0765 >> Finished job WORC_Example_STWStrategyHN___calcfeatures_train_predict_CalcFeatures_1_0_CT_0___HN1339 with status JobState.cancelled\n",
      "[ERROR]   noderun:0508 >> Could not find required data for fastr:///networks/WORC_Example_STWStrategyHN/0.0/runs/WORC_Example_STWStrategyHN_2019-10-16T17-50-17/nodelist/calcfeatures_train_predict_CalcFeatures_1_0_CT_0/outputs/features in {}!\n",
      "[INFO] networkrun:0765 >> Finished job WORC_Example_STWStrategyHN___calcfeatures_train_predict_CalcFeatures_1_0_CT_0___HN1331 with status JobState.cancelled\n",
      "[ERROR]   noderun:0508 >> Could not find required data for fastr:///networks/WORC_Example_STWStrategyHN/0.0/runs/WORC_Example_STWStrategyHN_2019-10-16T17-50-17/nodelist/calcfeatures_train_predict_CalcFeatures_1_0_CT_0/outputs/features in {}!\n",
      "[INFO] networkrun:0765 >> Finished job WORC_Example_STWStrategyHN___calcfeatures_train_predict_CalcFeatures_1_0_CT_0___HN1323 with status JobState.cancelled\n",
      "[ERROR]   noderun:0508 >> Could not find required data for fastr:///networks/WORC_Example_STWStrategyHN/0.0/runs/WORC_Example_STWStrategyHN_2019-10-16T17-50-17/nodelist/calcfeatures_train_predict_CalcFeatures_1_0_CT_0/outputs/features in {}!\n",
      "[INFO] networkrun:0765 >> Finished job WORC_Example_STWStrategyHN___calcfeatures_train_predict_CalcFeatures_1_0_CT_0___HN1260 with status JobState.cancelled\n",
      "[ERROR]   noderun:0508 >> Could not find required data for fastr:///networks/WORC_Example_STWStrategyHN/0.0/runs/WORC_Example_STWStrategyHN_2019-10-16T17-50-17/nodelist/calcfeatures_train_predict_CalcFeatures_1_0_CT_0/outputs/features in {}!\n",
      "[INFO] networkrun:0765 >> Finished job WORC_Example_STWStrategyHN___calcfeatures_train_predict_CalcFeatures_1_0_CT_0___HN1259 with status JobState.cancelled\n",
      "[ERROR]   noderun:0508 >> Could not find required data for fastr:///networks/WORC_Example_STWStrategyHN/0.0/runs/WORC_Example_STWStrategyHN_2019-10-16T17-50-17/nodelist/calcfeatures_train_predict_CalcFeatures_1_0_CT_0/outputs/features in {}!\n",
      "[INFO] networkrun:0765 >> Finished job WORC_Example_STWStrategyHN___calcfeatures_train_predict_CalcFeatures_1_0_CT_0___HN1192 with status JobState.cancelled\n",
      "[ERROR]   noderun:0508 >> Could not find required data for fastr:///networks/WORC_Example_STWStrategyHN/0.0/runs/WORC_Example_STWStrategyHN_2019-10-16T17-50-17/nodelist/calcfeatures_train_predict_CalcFeatures_1_0_CT_0/outputs/features in {}!\n",
      "[INFO] networkrun:0765 >> Finished job WORC_Example_STWStrategyHN___calcfeatures_train_predict_CalcFeatures_1_0_CT_0___HN1159 with status JobState.cancelled\n",
      "[ERROR]   noderun:0508 >> Could not find required data for fastr:///networks/WORC_Example_STWStrategyHN/0.0/runs/WORC_Example_STWStrategyHN_2019-10-16T17-50-17/nodelist/calcfeatures_train_predict_CalcFeatures_1_0_CT_0/outputs/features in {}!\n",
      "[INFO] networkrun:0765 >> Finished job WORC_Example_STWStrategyHN___calcfeatures_train_predict_CalcFeatures_1_0_CT_0___HN1146 with status JobState.cancelled\n",
      "[ERROR]   noderun:0508 >> Could not find required data for fastr:///networks/WORC_Example_STWStrategyHN/0.0/runs/WORC_Example_STWStrategyHN_2019-10-16T17-50-17/nodelist/calcfeatures_train_predict_CalcFeatures_1_0_CT_0/outputs/features in {}!\n",
      "[INFO] networkrun:0765 >> Finished job WORC_Example_STWStrategyHN___calcfeatures_train_predict_CalcFeatures_1_0_CT_0___HN1088 with status JobState.cancelled\n",
      "[ERROR]   noderun:0508 >> Could not find required data for fastr:///networks/WORC_Example_STWStrategyHN/0.0/runs/WORC_Example_STWStrategyHN_2019-10-16T17-50-17/nodelist/calcfeatures_train_predict_CalcFeatures_1_0_CT_0/outputs/features in {}!\n",
      "[INFO] networkrun:0765 >> Finished job WORC_Example_STWStrategyHN___calcfeatures_train_predict_CalcFeatures_1_0_CT_0___HN1077 with status JobState.cancelled\n",
      "[ERROR]   noderun:0508 >> Could not find required data for fastr:///networks/WORC_Example_STWStrategyHN/0.0/runs/WORC_Example_STWStrategyHN_2019-10-16T17-50-17/nodelist/calcfeatures_train_predict_CalcFeatures_1_0_CT_0/outputs/features in {}!\n",
      "[INFO] networkrun:0765 >> Finished job WORC_Example_STWStrategyHN___calcfeatures_train_predict_CalcFeatures_1_0_CT_0___HN1004 with status JobState.cancelled\n",
      "[ERROR]   noderun:0508 >> Could not find required data for fastr:///networks/WORC_Example_STWStrategyHN/0.0/runs/WORC_Example_STWStrategyHN_2019-10-16T17-50-17/nodelist/calcfeatures_train_predict_CalcFeatures_1_0_CT_0/outputs/features in {}!\n",
      "[INFO] networkrun:0765 >> Finished job WORC_Example_STWStrategyHN___preprocessing_train_CT_0___HN1748 with status JobState.cancelled\n"
     ]
    },
    {
     "name": "stdout",
     "output_type": "stream",
     "text": [
      "[ERROR]   noderun:0508 >> Could not find required data for fastr:///networks/WORC_Example_STWStrategyHN/0.0/runs/WORC_Example_STWStrategyHN_2019-10-16T17-50-17/nodelist/preprocessing_train_CT_0/outputs/image in {}!\n",
      "[INFO] networkrun:0765 >> Finished job WORC_Example_STWStrategyHN___preprocessing_train_CT_0___HN1560 with status JobState.cancelled\n",
      "[ERROR]   noderun:0508 >> Could not find required data for fastr:///networks/WORC_Example_STWStrategyHN/0.0/runs/WORC_Example_STWStrategyHN_2019-10-16T17-50-17/nodelist/preprocessing_train_CT_0/outputs/image in {}!\n",
      "[INFO] networkrun:0765 >> Finished job WORC_Example_STWStrategyHN___preprocessing_train_CT_0___HN1554 with status JobState.cancelled\n",
      "[ERROR]   noderun:0508 >> Could not find required data for fastr:///networks/WORC_Example_STWStrategyHN/0.0/runs/WORC_Example_STWStrategyHN_2019-10-16T17-50-17/nodelist/preprocessing_train_CT_0/outputs/image in {}!\n",
      "[INFO] networkrun:0765 >> Finished job WORC_Example_STWStrategyHN___preprocessing_train_CT_0___HN1524 with status JobState.cancelled\n",
      "[ERROR]   noderun:0508 >> Could not find required data for fastr:///networks/WORC_Example_STWStrategyHN/0.0/runs/WORC_Example_STWStrategyHN_2019-10-16T17-50-17/nodelist/preprocessing_train_CT_0/outputs/image in {}!\n",
      "[INFO] networkrun:0765 >> Finished job WORC_Example_STWStrategyHN___preprocessing_train_CT_0___HN1519 with status JobState.cancelled\n",
      "[ERROR]   noderun:0508 >> Could not find required data for fastr:///networks/WORC_Example_STWStrategyHN/0.0/runs/WORC_Example_STWStrategyHN_2019-10-16T17-50-17/nodelist/preprocessing_train_CT_0/outputs/image in {}!\n",
      "[INFO] networkrun:0765 >> Finished job WORC_Example_STWStrategyHN___preprocessing_train_CT_0___HN1501 with status JobState.cancelled\n",
      "[ERROR]   noderun:0508 >> Could not find required data for fastr:///networks/WORC_Example_STWStrategyHN/0.0/runs/WORC_Example_STWStrategyHN_2019-10-16T17-50-17/nodelist/preprocessing_train_CT_0/outputs/image in {}!\n",
      "[INFO] networkrun:0765 >> Finished job WORC_Example_STWStrategyHN___preprocessing_train_CT_0___HN1491 with status JobState.cancelled\n",
      "[ERROR]   noderun:0508 >> Could not find required data for fastr:///networks/WORC_Example_STWStrategyHN/0.0/runs/WORC_Example_STWStrategyHN_2019-10-16T17-50-17/nodelist/preprocessing_train_CT_0/outputs/image in {}!\n",
      "[INFO] networkrun:0765 >> Finished job WORC_Example_STWStrategyHN___preprocessing_train_CT_0___HN1372 with status JobState.cancelled\n",
      "[ERROR]   noderun:0508 >> Could not find required data for fastr:///networks/WORC_Example_STWStrategyHN/0.0/runs/WORC_Example_STWStrategyHN_2019-10-16T17-50-17/nodelist/preprocessing_train_CT_0/outputs/image in {}!\n",
      "[WARNING] executionplugin:0365 >> Job is already queued or running and cannot be cancelled anymore!\n",
      "[WARNING] executionplugin:0365 >> Job is already queued or running and cannot be cancelled anymore!\n",
      "[WARNING] executionplugin:0365 >> Job is already queued or running and cannot be cancelled anymore!\n",
      "[WARNING] executionplugin:0365 >> Job is already queued or running and cannot be cancelled anymore!\n",
      "[WARNING] executionplugin:0365 >> Job is already queued or running and cannot be cancelled anymore!\n",
      "[WARNING] executionplugin:0365 >> Job is already queued or running and cannot be cancelled anymore!\n",
      "[WARNING] executionplugin:0365 >> Job is already queued or running and cannot be cancelled anymore!\n",
      "[WARNING] executionplugin:0365 >> Job is already queued or running and cannot be cancelled anymore!\n",
      "[WARNING] executionplugin:0365 >> Job is already queued or running and cannot be cancelled anymore!\n",
      "[WARNING] executionplugin:0365 >> Job is already queued or running and cannot be cancelled anymore!\n",
      "[WARNING] executionplugin:0365 >> Job is already queued or running and cannot be cancelled anymore!\n",
      "[WARNING] executionplugin:0365 >> Job is already queued or running and cannot be cancelled anymore!\n",
      "[WARNING] executionplugin:0365 >> Job is already queued or running and cannot be cancelled anymore!\n",
      "[WARNING] executionplugin:0365 >> Job is already queued or running and cannot be cancelled anymore!\n",
      "[WARNING] executionplugin:0365 >> Job is already queued or running and cannot be cancelled anymore!\n",
      "[WARNING] executionplugin:0365 >> Job is already queued or running and cannot be cancelled anymore!\n",
      "[WARNING] executionplugin:0365 >> Job is already queued or running and cannot be cancelled anymore!\n",
      "[WARNING] executionplugin:0365 >> Job is already queued or running and cannot be cancelled anymore!\n",
      "[WARNING] executionplugin:0365 >> Job is already queued or running and cannot be cancelled anymore!\n",
      "[WARNING] executionplugin:0365 >> Job is already queued or running and cannot be cancelled anymore!\n",
      "[WARNING] executionplugin:0365 >> Job is already queued or running and cannot be cancelled anymore!\n",
      "[WARNING] executionplugin:0365 >> Job is already queued or running and cannot be cancelled anymore!\n",
      "[WARNING] executionplugin:0365 >> Job is already queued or running and cannot be cancelled anymore!\n",
      "[WARNING] executionplugin:0365 >> Job is already queued or running and cannot be cancelled anymore!\n",
      "[WARNING] executionplugin:0365 >> Job is already queued or running and cannot be cancelled anymore!\n",
      "[WARNING] executionplugin:0365 >> Job is already queued or running and cannot be cancelled anymore!\n",
      "[WARNING] executionplugin:0365 >> Job is already queued or running and cannot be cancelled anymore!\n",
      "[WARNING] executionplugin:0365 >> Job is already queued or running and cannot be cancelled anymore!\n",
      "[WARNING] executionplugin:0365 >> Job is already queued or running and cannot be cancelled anymore!\n",
      "[WARNING] executionplugin:0365 >> Job is already queued or running and cannot be cancelled anymore!\n",
      "[WARNING] executionplugin:0365 >> Job is already queued or running and cannot be cancelled anymore!\n",
      "[WARNING] executionplugin:0365 >> Job is already queued or running and cannot be cancelled anymore!\n",
      "[WARNING] executionplugin:0365 >> Job is already queued or running and cannot be cancelled anymore!\n",
      "[WARNING] executionplugin:0365 >> Job is already queued or running and cannot be cancelled anymore!\n",
      "[WARNING] executionplugin:0365 >> Job is already queued or running and cannot be cancelled anymore!\n",
      "[WARNING] executionplugin:0365 >> Job is already queued or running and cannot be cancelled anymore!\n",
      "[WARNING] executionplugin:0365 >> Job is already queued or running and cannot be cancelled anymore!\n",
      "[WARNING] executionplugin:0365 >> Job is already queued or running and cannot be cancelled anymore!\n",
      "[WARNING] executionplugin:0365 >> Job is already queued or running and cannot be cancelled anymore!\n",
      "[INFO] networkrun:0656 >> ####################################\n",
      "[INFO] networkrun:0657 >> #    network execution ABORTED     #\n",
      "[INFO] networkrun:0658 >> ####################################\n",
      "[INFO] simplereport:0026 >> ===== RESULTS =====\n",
      "[INFO] simplereport:0035 >> classification: 1 success / 0 failed\n",
      "[INFO] simplereport:0035 >> config_classification_sink: 1 success / 0 failed\n",
      "[INFO] simplereport:0035 >> features_train_CT_0: 19 success / 1 failed\n",
      "[INFO] simplereport:0035 >> performance: 1 success / 0 failed\n",
      "[INFO] simplereport:0036 >> ===================\n",
      "[WARNING] simplereport:0048 >> There were failed samples in the run, to start debugging you can run:\n",
      "\n",
      "    fastr trace /home/martijn/git/WORCTutorial/WORC_Example_STWStrategyHN/__sink_data__.json --sinks\n",
      "\n",
      "see the debug section in the manual at https://fastr.readthedocs.io/en/develop/static/user_manual.html#debugging for more information.\n"
     ]
    }
   ],
   "source": [
    "# Run the experiment!\n",
    "experiment.execute()"
   ]
  },
  {
   "cell_type": "markdown",
   "metadata": {},
   "source": [
    "**NOTE:**  Precomputed features can be used instead of images and masks by instead using ``I.features_from_this_directory()`` in a similar fashion."
   ]
  },
  {
   "cell_type": "markdown",
   "metadata": {},
   "source": [
    "---------------------------------------------------------------------------\n",
    "Analysis of results\n",
    "---------------------------------------------------------------------------\n",
    "\n",
    "There are two main outputs: the features for each patient/object, and the overall\n",
    "performance. These are stored as .hdf5 and .json files, respectively. By\n",
    "default, they are saved in the so-called \"fastr output mount\", in a subfolder\n",
    "named after your experiment name."
   ]
  },
  {
   "cell_type": "code",
   "execution_count": null,
   "metadata": {},
   "outputs": [],
   "source": [
    "# Locate output folder\n",
    "outputfolder = fastr.config.mounts['output']\n",
    "experiment_folder = os.path.join(outputfolder, 'WORC_' + experiment_name)\n",
    "\n",
    "print(f\"Your output is stored in {experiment_folder}.\")\n",
    "\n",
    "# Read the features for the first patient\n",
    "# NOTE: we use the glob package for scanning a folder to find specific files\n",
    "feature_files = glob.glob(os.path.join(experiment_folder,\n",
    "                                       'Features',\n",
    "                                       'features_*.hdf5'))\n",
    "featurefile_p1 = feature_files[0]\n",
    "features_p1 = pd.read_hdf(featurefile_p1)\n",
    "\n",
    "# Read the overall peformance\n",
    "performance_file = os.path.join(experiment_folder, 'performance_all_0.json')\n",
    "with open(performance_file, 'r') as fp:\n",
    "    performance = json.load(fp)\n",
    "\n",
    "# Print the feature values and names\n",
    "print(\"Feature values:\")\n",
    "for v, l in zip(features_p1.feature_values, features_p1.feature_labels):\n",
    "    print(f\"\\t {l} : {v}.\")\n",
    "\n",
    "# Print the output performance\n",
    "print(\"\\n Performance:\")\n",
    "stats = performance['Statistics']\n",
    "del stats['Percentages']  # Omitted for brevity\n",
    "for k, v in stats.items():\n",
    "    print(f\"\\t {k} {v}.\")"
   ]
  },
  {
   "cell_type": "markdown",
   "metadata": {},
   "source": [
    "**NOTE:** the performance is probably horrible, which is expected as we ran\n",
    "the experiment on coarse settings. These settings are recommended to only\n",
    "use for testing: see also below.\n"
   ]
  },
  {
   "cell_type": "markdown",
   "metadata": {},
   "source": [
    "---------------------------------------------------------------------------\n",
    "Tips and Tricks\n",
    "---------------------------------------------------------------------------\n",
    "\n",
    "For tips and tricks on running a full experiment instead of this simple\n",
    "example, adding more evaluation options, debuggin a crashed network etcetera,\n",
    "please go to https://worc.readthedocs.io/en/latest/static/user_manual.html\n",
    "\n",
    "Some things we would advice to always do:\n",
    "  - Run actual experiments on the full settings (coarse=False):\n",
    "  \n",
    "      ``coarse = False``\n",
    "      \n",
    "      ``experiment.binary_classification(coarse=coarse)``\n",
    "      \n",
    "  **Note**: this will result in more computation time. We therefore recommmend\n",
    "  to run this script on either a cluster or high performance PC. If so,\n",
    "  you may change the execution to use multiple cores to speed up computation\n",
    "  just before before experiment.execute():\n",
    "  \n",
    "      ``experiment.set_multicore_execution()``\n",
    "\n",
    "\n",
    "  - Add extensive evaluation: experiment.add_evaluation() before experiment.execute():\n",
    "  \n",
    "      ``experiment.add_evaluation()``"
   ]
  },
  {
   "cell_type": "code",
   "execution_count": null,
   "metadata": {},
   "outputs": [],
   "source": []
  }
 ],
 "metadata": {
  "kernelspec": {
   "display_name": "Python 3",
   "language": "python",
   "name": "python3"
  },
  "language_info": {
   "codemirror_mode": {
    "name": "ipython",
    "version": 3
   },
   "file_extension": ".py",
   "mimetype": "text/x-python",
   "name": "python",
   "nbconvert_exporter": "python",
   "pygments_lexer": "ipython3",
   "version": "3.7.3"
  }
 },
 "nbformat": 4,
 "nbformat_minor": 2
}
